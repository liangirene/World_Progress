{
 "cells": [
  {
   "cell_type": "code",
   "execution_count": 363,
   "metadata": {
    "deletable": false,
    "editable": false
   },
   "outputs": [
    {
     "name": "stdout",
     "output_type": "stream",
     "text": [
      "=====================================================================\n",
      "Assignment: Project 1: World Progress\n",
      "OK, version v1.12.5\n",
      "=====================================================================\n",
      "\n"
     ]
    }
   ],
   "source": [
    "# Initialize OK\n",
    "from client.api.notebook import Notebook\n",
    "ok = Notebook('project1.ok')"
   ]
  },
  {
   "cell_type": "markdown",
   "metadata": {},
   "source": [
    "## Project 1: World Progress"
   ]
  },
  {
   "cell_type": "markdown",
   "metadata": {},
   "source": [
    "In this project, you'll explore data from [Gapminder.org](http://gapminder.org), a website dedicated to providing a fact-based view of the world and how it has changed. That site includes several data visualizations and presentations, but also publishes the raw data that we will use in this project to recreate and extend some of their most famous visualizations.\n",
    "\n",
    "The Gapminder website collects data from many sources and compiles them into tables that describe many countries around the world. All of the data they aggregate are published in the [Systema Globalis](https://github.com/open-numbers/ddf--gapminder--systema_globalis/blob/master/README.md). Their goal is \"to compile all public statistics; Social, Economic and Environmental; into a comparable total dataset.\" All data sets in this project are copied directly from the Systema Globalis without any changes.\n",
    "\n",
    "This project is dedicated to [Hans Rosling](https://en.wikipedia.org/wiki/Hans_Rosling) (1948-2017), who championed the use of data to understand and prioritize global development challenges."
   ]
  },
  {
   "cell_type": "markdown",
   "metadata": {},
   "source": [
    "### Logistics\n",
    "\n",
    "**Deadline.** This project is due at 11:59pm on Friday 10/4. Projects will be accepted up to 2 days (48 hours) late; a project submitted less than 24 hours after the deadline will receive 2/3 credit, a project submitted between 24 and 48 hours after the deadline will receive 1/3 credit, and a project submitted 48 hours or more after the deadline will receive no credit. It's **much** better to be early than late, so start working now.\n",
    "\n",
    "**Checkpoint.** For full credit, you must also complete the first 8 questions, pass all public autograder tests, and submit to okpy by 11:59pm on Friday 9/27. After you've submitted the checkpoint, you may still change your answers before the project deadline - only your final submission will be graded for correctness. You will have some lab time to work on these questions, but we recommend that you start the project before lab and leave time to finish the checkpoint afterward.\n",
    "\n",
    "**Partners.** You may work with one other partner; your partner must be from your assigned lab section. Only one of you is required to submit the project. On [okpy.org](http://okpy.org), the person who submits should also designate their partner so that both of you receive credit.\n",
    "\n",
    "**Rules.** Don't share your code with anybody but your partner. You are welcome to discuss questions with other students, but don't share the answers. The experience of solving the problems in this project will prepare you for exams (and life). If someone asks you for the answer, resist! Instead, you can demonstrate how you would solve a similar problem.\n",
    "\n",
    "**Support.** You are not alone! Come to office hours, post on Piazza, and talk to your classmates. If you want to ask about the details of your solution to a problem, make a private Piazza post and the staff will respond. If you're ever feeling overwhelmed or don't know how to make progress, email your TA or tutor for help. You can find contact information for the staff on the [course website](http://data8.org/fa19/staff.html).\n",
    "\n",
    "**Tests.** The tests that are given are **not comprehensive** and passing the tests for a question **does not** mean that you answered the question correctly. Tests usually only check that your table has the correct column labels. However, more tests will be applied to verify the correctness of your submission in order to assign your final score, so be careful and check your work! You might want to create your own checks along the way to see if your answers make sense. Additionally, before you submit, make sure that none of your cells take a very long time to run (several minutes).\n",
    "\n",
    "**Free Response Questions:** Make sure that you put the answers to the written questions in the indicated cell we provide. Check to make sure that you have a [Gradescope](http://gradescope.com) account, which is where the scores to the free response questions will be posted. If you do not, make sure to reach out to your assigned (u)GSI.\n",
    "\n",
    "**Advice.** Develop your answers incrementally. To perform a complicated table manipulation, break it up into steps, perform each step on a different line, give a new name to each result, and check that each intermediate result is what you expect. You can add any additional names or functions you want to the provided cells. Make sure that you are using distinct and meaningful variable names throughout the notebook. Along that line, **DO NOT** reuse the variable names that we use when we grade your answers. For example, in Question 1 of the Global Poverty section, we ask you to assign an answer to `latest`. Do not reassign the variable name `latest` to anything else in your notebook, otherwise there is the chance that our tests grade against what `latest` was reassigned to.\n",
    "\n",
    "You **never** have to use just one line in this project or any others. Use intermediate variables and multiple lines as much as you would like!  \n",
    "\n",
    "To get started, load `datascience`, `numpy`, `plots`, and `ok`."
   ]
  },
  {
   "cell_type": "code",
   "execution_count": 364,
   "metadata": {},
   "outputs": [
    {
     "name": "stdout",
     "output_type": "stream",
     "text": [
      "=====================================================================\n",
      "Assignment: Project 1: World Progress\n",
      "OK, version v1.12.5\n",
      "=====================================================================\n",
      "\n"
     ]
    }
   ],
   "source": [
    "from datascience import *\n",
    "import numpy as np\n",
    "\n",
    "%matplotlib inline\n",
    "import matplotlib.pyplot as plots\n",
    "plots.style.use('fivethirtyeight')\n",
    "\n",
    "from client.api.notebook import Notebook\n",
    "ok = Notebook('project1.ok')"
   ]
  },
  {
   "cell_type": "markdown",
   "metadata": {},
   "source": [
    "Before continuing the assignment, select \"Save and Checkpoint\" in the File menu and then execute the submit cell below. The result will contain a link that you can use to check that your assignment has been submitted successfully. If you submit more than once before the deadline, we will only grade your final submission. If you mistakenly submit the wrong one, you can head to okpy.org and flag the correct version. There will be another submit cell at the end of the assignment when you finish!"
   ]
  },
  {
   "cell_type": "code",
   "execution_count": 365,
   "metadata": {},
   "outputs": [
    {
     "data": {
      "application/javascript": [
       "IPython.notebook.save_checkpoint();"
      ],
      "text/plain": [
       "<IPython.core.display.Javascript object>"
      ]
     },
     "metadata": {},
     "output_type": "display_data"
    },
    {
     "data": {
      "application/javascript": [
       "IPython.notebook.save_notebook();"
      ],
      "text/plain": [
       "<IPython.core.display.Javascript object>"
      ]
     },
     "metadata": {},
     "output_type": "display_data"
    },
    {
     "name": "stdout",
     "output_type": "stream",
     "text": [
      "Saving notebook... Saved 'project1.ipynb'.\n",
      "Submit... 100% complete\n",
      "Submission successful for user: ireneliang@berkeley.edu\n",
      "URL: https://okpy.org/cal/data8/fa19/project1/submissions/71j7Yj\n",
      "\n"
     ]
    }
   ],
   "source": [
    "_ = ok.submit()"
   ]
  },
  {
   "cell_type": "markdown",
   "metadata": {
    "deletable": false,
    "editable": false
   },
   "source": [
    "## 1. Global Population Growth\n"
   ]
  },
  {
   "cell_type": "markdown",
   "metadata": {
    "deletable": false,
    "editable": false
   },
   "source": [
    "The global population of humans reached 1 billion around 1800, 3 billion around 1960, and 7 billion around 2011. The potential impact of exponential population growth has concerned scientists, economists, and politicians alike.\n",
    "\n",
    "The UN Population Division estimates that the world population will likely continue to grow throughout the 21st century, but at a slower rate, perhaps reaching 11 billion by 2100. However, the UN does not rule out scenarios of more extreme growth.\n",
    "\n",
    "<a href=\"http://www.pewresearch.org/fact-tank/2015/06/08/scientists-more-worried-than-public-about-worlds-growing-population/ft_15-06-04_popcount/\"> \n",
    " <img src=\"pew_population_projection.png\"/> \n",
    "</a>\n",
    "\n",
    "In this section, we will examine some of the factors that influence population growth and how they are changing around the world.\n",
    "\n",
    "The first table we will consider is the total population of each country over time. Run the cell below."
   ]
  },
  {
   "cell_type": "code",
   "execution_count": 366,
   "metadata": {
    "deletable": false,
    "editable": false
   },
   "outputs": [
    {
     "data": {
      "text/html": [
       "<table border=\"1\" class=\"dataframe\">\n",
       "    <thead>\n",
       "        <tr>\n",
       "            <th>geo</th> <th>time</th> <th>population_total</th>\n",
       "        </tr>\n",
       "    </thead>\n",
       "    <tbody>\n",
       "        <tr>\n",
       "            <td>abw </td> <td>1800</td> <td>19286           </td>\n",
       "        </tr>\n",
       "        <tr>\n",
       "            <td>abw </td> <td>1801</td> <td>19286           </td>\n",
       "        </tr>\n",
       "        <tr>\n",
       "            <td>abw </td> <td>1802</td> <td>19286           </td>\n",
       "        </tr>\n",
       "    </tbody>\n",
       "</table>\n",
       "<p>... (87792 rows omitted)</p>"
      ],
      "text/plain": [
       "<IPython.core.display.HTML object>"
      ]
     },
     "metadata": {},
     "output_type": "display_data"
    }
   ],
   "source": [
    "population = Table.read_table('population.csv')\n",
    "population.show(3)"
   ]
  },
  {
   "cell_type": "markdown",
   "metadata": {},
   "source": [
    "**Note:** The population csv file can also be found [here](https://github.com/open-numbers/ddf--gapminder--systema_globalis/raw/master/ddf--datapoints--population_total--by--geo--time.csv). The data for this project was downloaded in February 2017."
   ]
  },
  {
   "cell_type": "markdown",
   "metadata": {
    "deletable": false,
    "editable": false
   },
   "source": [
    "### Bangladesh\n",
    "\n",
    "In the `population` table, the `geo` column contains three-letter codes established by the [International Organization for Standardization](https://en.wikipedia.org/wiki/International_Organization_for_Standardization) (ISO) in the [Alpha-3](https://en.wikipedia.org/wiki/ISO_3166-1_alpha-3#Current_codes) standard. We will begin by taking a close look at Bangladesh. Inspect the standard to find the 3-letter code for Bangladesh."
   ]
  },
  {
   "cell_type": "markdown",
   "metadata": {
    "deletable": false,
    "editable": false
   },
   "source": [
    "**Question 1.** Create a table called `b_pop` that has two columns labeled `time` and `population_total`. The first column should contain the years from 1970 through 2015 (including both 1970 and 2015) and the second should contain the population of Bangladesh in each of those years.\n",
    "\n",
    "<!--\n",
    "BEGIN QUESTION\n",
    "name: q1_1\n",
    "-->"
   ]
  },
  {
   "cell_type": "code",
   "execution_count": 367,
   "metadata": {
    "deletable": false
   },
   "outputs": [
    {
     "data": {
      "text/html": [
       "<table border=\"1\" class=\"dataframe\">\n",
       "    <thead>\n",
       "        <tr>\n",
       "            <th>time</th> <th>population_total</th>\n",
       "        </tr>\n",
       "    </thead>\n",
       "    <tbody>\n",
       "        <tr>\n",
       "            <td>1970</td> <td>65048701        </td>\n",
       "        </tr>\n",
       "        <tr>\n",
       "            <td>1971</td> <td>66417450        </td>\n",
       "        </tr>\n",
       "        <tr>\n",
       "            <td>1972</td> <td>67578486        </td>\n",
       "        </tr>\n",
       "        <tr>\n",
       "            <td>1973</td> <td>68658472        </td>\n",
       "        </tr>\n",
       "        <tr>\n",
       "            <td>1974</td> <td>69837960        </td>\n",
       "        </tr>\n",
       "        <tr>\n",
       "            <td>1975</td> <td>71247153        </td>\n",
       "        </tr>\n",
       "        <tr>\n",
       "            <td>1976</td> <td>72930206        </td>\n",
       "        </tr>\n",
       "        <tr>\n",
       "            <td>1977</td> <td>74848466        </td>\n",
       "        </tr>\n",
       "        <tr>\n",
       "            <td>1978</td> <td>76948378        </td>\n",
       "        </tr>\n",
       "        <tr>\n",
       "            <td>1979</td> <td>79141947        </td>\n",
       "        </tr>\n",
       "    </tbody>\n",
       "</table>\n",
       "<p>... (36 rows omitted)</p>"
      ],
      "text/plain": [
       "time | population_total\n",
       "1970 | 65048701\n",
       "1971 | 66417450\n",
       "1972 | 67578486\n",
       "1973 | 68658472\n",
       "1974 | 69837960\n",
       "1975 | 71247153\n",
       "1976 | 72930206\n",
       "1977 | 74848466\n",
       "1978 | 76948378\n",
       "1979 | 79141947\n",
       "... (36 rows omitted)"
      ]
     },
     "execution_count": 367,
     "metadata": {},
     "output_type": "execute_result"
    }
   ],
   "source": [
    "b_pop = population.where(\"geo\", are.equal_to(\"bgd\")).where(\"time\", are.between_or_equal_to(1970, 2015)).drop(\"geo\")\n",
    "b_pop"
   ]
  },
  {
   "cell_type": "code",
   "execution_count": 368,
   "metadata": {
    "deletable": false,
    "editable": false
   },
   "outputs": [
    {
     "name": "stdout",
     "output_type": "stream",
     "text": [
      "~~~~~~~~~~~~~~~~~~~~~~~~~~~~~~~~~~~~~~~~~~~~~~~~~~~~~~~~~~~~~~~~~~~~~\n",
      "Running tests\n",
      "\n",
      "---------------------------------------------------------------------\n",
      "Test summary\n",
      "    Passed: 2\n",
      "    Failed: 0\n",
      "[ooooooooook] 100.0% passed\n",
      "\n"
     ]
    }
   ],
   "source": [
    "ok.grade(\"q1_1\");"
   ]
  },
  {
   "cell_type": "markdown",
   "metadata": {
    "deletable": false,
    "editable": false
   },
   "source": [
    "Run the following cell to create a table called `b_five` that has the population of Bangladesh every five years. At a glance, it appears that the population of Bangladesh has been growing quickly indeed!"
   ]
  },
  {
   "cell_type": "code",
   "execution_count": 369,
   "metadata": {
    "deletable": false,
    "editable": false
   },
   "outputs": [
    {
     "data": {
      "text/html": [
       "<table border=\"1\" class=\"dataframe\">\n",
       "    <thead>\n",
       "        <tr>\n",
       "            <th>time</th> <th>population_total</th>\n",
       "        </tr>\n",
       "    </thead>\n",
       "    <tbody>\n",
       "        <tr>\n",
       "            <td>1970</td> <td>65,048,701      </td>\n",
       "        </tr>\n",
       "        <tr>\n",
       "            <td>1975</td> <td>71,247,153      </td>\n",
       "        </tr>\n",
       "        <tr>\n",
       "            <td>1980</td> <td>81,364,176      </td>\n",
       "        </tr>\n",
       "        <tr>\n",
       "            <td>1985</td> <td>93,015,182      </td>\n",
       "        </tr>\n",
       "        <tr>\n",
       "            <td>1990</td> <td>105,983,136     </td>\n",
       "        </tr>\n",
       "        <tr>\n",
       "            <td>1995</td> <td>118,427,768     </td>\n",
       "        </tr>\n",
       "        <tr>\n",
       "            <td>2000</td> <td>131,280,739     </td>\n",
       "        </tr>\n",
       "        <tr>\n",
       "            <td>2005</td> <td>142,929,979     </td>\n",
       "        </tr>\n",
       "        <tr>\n",
       "            <td>2010</td> <td>151,616,777     </td>\n",
       "        </tr>\n",
       "        <tr>\n",
       "            <td>2015</td> <td>160,995,642     </td>\n",
       "        </tr>\n",
       "    </tbody>\n",
       "</table>"
      ],
      "text/plain": [
       "time | population_total\n",
       "1970 | 65,048,701\n",
       "1975 | 71,247,153\n",
       "1980 | 81,364,176\n",
       "1985 | 93,015,182\n",
       "1990 | 105,983,136\n",
       "1995 | 118,427,768\n",
       "2000 | 131,280,739\n",
       "2005 | 142,929,979\n",
       "2010 | 151,616,777\n",
       "2015 | 160,995,642"
      ]
     },
     "execution_count": 369,
     "metadata": {},
     "output_type": "execute_result"
    }
   ],
   "source": [
    "b_pop.set_format('population_total', NumberFormatter)\n",
    "\n",
    "fives = np.arange(1970, 2016, 5) # 1970, 1975, 1980, ...\n",
    "b_five = b_pop.sort('time').where('time', are.contained_in(fives))\n",
    "b_five"
   ]
  },
  {
   "cell_type": "markdown",
   "metadata": {
    "deletable": false,
    "editable": false
   },
   "source": [
    "**Question 2.** Assign `initial` to an array that contains the population for every five year interval from 1970 to 2010. Then, assign `changed` to an array that contains the population for every five year interval from 1975 to 2015. You should use the `b_five` table to create both arrays, first filtering the table to only contain the relevant years.\n",
    "\n",
    "We have provided the code below that uses  `initial` and `changed` in order to add a column to `b_five` called `annual_growth`. Don't worry about the calculation of the growth rates; run the test below to test your solution.\n",
    "\n",
    "If you are interested in how we came up with the formula for growth rates, consult the [growth rates](https://www.inferentialthinking.com/chapters/03/2/1/growth) section of the textbook.\n",
    "\n",
    "<!--\n",
    "BEGIN QUESTION\n",
    "name: q1_2\n",
    "-->"
   ]
  },
  {
   "cell_type": "code",
   "execution_count": 370,
   "metadata": {
    "deletable": false
   },
   "outputs": [
    {
     "data": {
      "text/html": [
       "<table border=\"1\" class=\"dataframe\">\n",
       "    <thead>\n",
       "        <tr>\n",
       "            <th>time</th> <th>population_total</th> <th>annual_growth</th>\n",
       "        </tr>\n",
       "    </thead>\n",
       "    <tbody>\n",
       "        <tr>\n",
       "            <td>1970</td> <td>65,048,701      </td> <td>1.84%        </td>\n",
       "        </tr>\n",
       "        <tr>\n",
       "            <td>1975</td> <td>71,247,153      </td> <td>2.69%        </td>\n",
       "        </tr>\n",
       "        <tr>\n",
       "            <td>1980</td> <td>81,364,176      </td> <td>2.71%        </td>\n",
       "        </tr>\n",
       "        <tr>\n",
       "            <td>1985</td> <td>93,015,182      </td> <td>2.64%        </td>\n",
       "        </tr>\n",
       "        <tr>\n",
       "            <td>1990</td> <td>105,983,136     </td> <td>2.25%        </td>\n",
       "        </tr>\n",
       "        <tr>\n",
       "            <td>1995</td> <td>118,427,768     </td> <td>2.08%        </td>\n",
       "        </tr>\n",
       "        <tr>\n",
       "            <td>2000</td> <td>131,280,739     </td> <td>1.71%        </td>\n",
       "        </tr>\n",
       "        <tr>\n",
       "            <td>2005</td> <td>142,929,979     </td> <td>1.19%        </td>\n",
       "        </tr>\n",
       "        <tr>\n",
       "            <td>2010</td> <td>151,616,777     </td> <td>1.21%        </td>\n",
       "        </tr>\n",
       "    </tbody>\n",
       "</table>"
      ],
      "text/plain": [
       "time | population_total | annual_growth\n",
       "1970 | 65,048,701       | 1.84%\n",
       "1975 | 71,247,153       | 2.69%\n",
       "1980 | 81,364,176       | 2.71%\n",
       "1985 | 93,015,182       | 2.64%\n",
       "1990 | 105,983,136      | 2.25%\n",
       "1995 | 118,427,768      | 2.08%\n",
       "2000 | 131,280,739      | 1.71%\n",
       "2005 | 142,929,979      | 1.19%\n",
       "2010 | 151,616,777      | 1.21%"
      ]
     },
     "execution_count": 370,
     "metadata": {},
     "output_type": "execute_result"
    }
   ],
   "source": [
    "initial = b_five.where(\"time\", are.between_or_equal_to(1970, 2010)).column(\"population_total\")\n",
    "changed = b_five.where(\"time\", are.between_or_equal_to(1975, 2015)).column(\"population_total\")\n",
    "\n",
    "b_1970_through_2010 = b_five.where('time', are.below_or_equal_to(2010)) \n",
    "b_five_growth = b_1970_through_2010.with_column('annual_growth', (changed/initial)**0.2-1)\n",
    "b_five_growth.set_format('annual_growth', PercentFormatter)"
   ]
  },
  {
   "cell_type": "code",
   "execution_count": 371,
   "metadata": {
    "deletable": false,
    "editable": false
   },
   "outputs": [
    {
     "name": "stdout",
     "output_type": "stream",
     "text": [
      "~~~~~~~~~~~~~~~~~~~~~~~~~~~~~~~~~~~~~~~~~~~~~~~~~~~~~~~~~~~~~~~~~~~~~\n",
      "Running tests\n",
      "\n",
      "---------------------------------------------------------------------\n",
      "Test summary\n",
      "    Passed: 2\n",
      "    Failed: 0\n",
      "[ooooooooook] 100.0% passed\n",
      "\n"
     ]
    }
   ],
   "source": [
    "ok.grade(\"q1_2\");"
   ]
  },
  {
   "cell_type": "markdown",
   "metadata": {
    "deletable": false,
    "editable": false
   },
   "source": [
    "While the population has grown every five years since 1970, the annual growth rate decreased dramatically from 1985 to 2005. Let's look at some other information in order to develop a possible explanation. Run the next cell to load three additional tables of measurements about countries over time."
   ]
  },
  {
   "cell_type": "code",
   "execution_count": 372,
   "metadata": {
    "deletable": false,
    "editable": false
   },
   "outputs": [],
   "source": [
    "life_expectancy = Table.read_table('life_expectancy.csv')\n",
    "child_mortality = Table.read_table('child_mortality.csv').relabel(2, 'child_mortality_under_5_per_1000_born')\n",
    "fertility = Table.read_table('fertility.csv')"
   ]
  },
  {
   "cell_type": "markdown",
   "metadata": {
    "deletable": false,
    "editable": false
   },
   "source": [
    "The `life_expectancy` table contains a statistic that is often used to measure how long people live, called *life expectancy at birth*. This number, for a country in a given year, [does not measure how long babies born in that year are expected to live](http://blogs.worldbank.org/opendata/what-does-life-expectancy-birth-really-mean). Instead, it measures how long someone would live, on average, if the *mortality conditions* in that year persisted throughout their lifetime. These \"mortality conditions\" describe what fraction of people at each age survived the year. So, it is a way of measuring the proportion of people that are staying alive, aggregated over different age groups in the population."
   ]
  },
  {
   "cell_type": "markdown",
   "metadata": {},
   "source": [
    "Run the following cells below to see `life_expectancy`, `child_mortality`, and `fertility`. Refer back to these tables as they will be helpful for answering further questions!"
   ]
  },
  {
   "cell_type": "code",
   "execution_count": 373,
   "metadata": {},
   "outputs": [
    {
     "data": {
      "text/html": [
       "<table border=\"1\" class=\"dataframe\">\n",
       "    <thead>\n",
       "        <tr>\n",
       "            <th>geo</th> <th>time</th> <th>life_expectancy_years</th>\n",
       "        </tr>\n",
       "    </thead>\n",
       "    <tbody>\n",
       "        <tr>\n",
       "            <td>afg </td> <td>1800</td> <td>28.21                </td>\n",
       "        </tr>\n",
       "        <tr>\n",
       "            <td>afg </td> <td>1801</td> <td>28.2                 </td>\n",
       "        </tr>\n",
       "        <tr>\n",
       "            <td>afg </td> <td>1802</td> <td>28.19                </td>\n",
       "        </tr>\n",
       "        <tr>\n",
       "            <td>afg </td> <td>1803</td> <td>28.18                </td>\n",
       "        </tr>\n",
       "        <tr>\n",
       "            <td>afg </td> <td>1804</td> <td>28.17                </td>\n",
       "        </tr>\n",
       "        <tr>\n",
       "            <td>afg </td> <td>1805</td> <td>28.16                </td>\n",
       "        </tr>\n",
       "        <tr>\n",
       "            <td>afg </td> <td>1806</td> <td>28.15                </td>\n",
       "        </tr>\n",
       "        <tr>\n",
       "            <td>afg </td> <td>1807</td> <td>28.14                </td>\n",
       "        </tr>\n",
       "        <tr>\n",
       "            <td>afg </td> <td>1808</td> <td>28.13                </td>\n",
       "        </tr>\n",
       "        <tr>\n",
       "            <td>afg </td> <td>1809</td> <td>28.12                </td>\n",
       "        </tr>\n",
       "    </tbody>\n",
       "</table>\n",
       "<p>... (43847 rows omitted)</p>"
      ],
      "text/plain": [
       "geo  | time | life_expectancy_years\n",
       "afg  | 1800 | 28.21\n",
       "afg  | 1801 | 28.2\n",
       "afg  | 1802 | 28.19\n",
       "afg  | 1803 | 28.18\n",
       "afg  | 1804 | 28.17\n",
       "afg  | 1805 | 28.16\n",
       "afg  | 1806 | 28.15\n",
       "afg  | 1807 | 28.14\n",
       "afg  | 1808 | 28.13\n",
       "afg  | 1809 | 28.12\n",
       "... (43847 rows omitted)"
      ]
     },
     "execution_count": 373,
     "metadata": {},
     "output_type": "execute_result"
    }
   ],
   "source": [
    "life_expectancy"
   ]
  },
  {
   "cell_type": "code",
   "execution_count": 374,
   "metadata": {},
   "outputs": [
    {
     "data": {
      "text/html": [
       "<table border=\"1\" class=\"dataframe\">\n",
       "    <thead>\n",
       "        <tr>\n",
       "            <th>geo</th> <th>time</th> <th>child_mortality_under_5_per_1000_born</th>\n",
       "        </tr>\n",
       "    </thead>\n",
       "    <tbody>\n",
       "        <tr>\n",
       "            <td>afg </td> <td>1800</td> <td>468.6                                </td>\n",
       "        </tr>\n",
       "        <tr>\n",
       "            <td>afg </td> <td>1801</td> <td>468.6                                </td>\n",
       "        </tr>\n",
       "        <tr>\n",
       "            <td>afg </td> <td>1802</td> <td>468.6                                </td>\n",
       "        </tr>\n",
       "        <tr>\n",
       "            <td>afg </td> <td>1803</td> <td>468.6                                </td>\n",
       "        </tr>\n",
       "        <tr>\n",
       "            <td>afg </td> <td>1804</td> <td>468.6                                </td>\n",
       "        </tr>\n",
       "        <tr>\n",
       "            <td>afg </td> <td>1805</td> <td>468.6                                </td>\n",
       "        </tr>\n",
       "        <tr>\n",
       "            <td>afg </td> <td>1806</td> <td>470                                  </td>\n",
       "        </tr>\n",
       "        <tr>\n",
       "            <td>afg </td> <td>1807</td> <td>470                                  </td>\n",
       "        </tr>\n",
       "        <tr>\n",
       "            <td>afg </td> <td>1808</td> <td>470                                  </td>\n",
       "        </tr>\n",
       "        <tr>\n",
       "            <td>afg </td> <td>1809</td> <td>470                                  </td>\n",
       "        </tr>\n",
       "    </tbody>\n",
       "</table>\n",
       "<p>... (40746 rows omitted)</p>"
      ],
      "text/plain": [
       "geo  | time | child_mortality_under_5_per_1000_born\n",
       "afg  | 1800 | 468.6\n",
       "afg  | 1801 | 468.6\n",
       "afg  | 1802 | 468.6\n",
       "afg  | 1803 | 468.6\n",
       "afg  | 1804 | 468.6\n",
       "afg  | 1805 | 468.6\n",
       "afg  | 1806 | 470\n",
       "afg  | 1807 | 470\n",
       "afg  | 1808 | 470\n",
       "afg  | 1809 | 470\n",
       "... (40746 rows omitted)"
      ]
     },
     "execution_count": 374,
     "metadata": {},
     "output_type": "execute_result"
    }
   ],
   "source": [
    "child_mortality"
   ]
  },
  {
   "cell_type": "code",
   "execution_count": 375,
   "metadata": {},
   "outputs": [
    {
     "data": {
      "text/html": [
       "<table border=\"1\" class=\"dataframe\">\n",
       "    <thead>\n",
       "        <tr>\n",
       "            <th>geo</th> <th>time</th> <th>children_per_woman_total_fertility</th>\n",
       "        </tr>\n",
       "    </thead>\n",
       "    <tbody>\n",
       "        <tr>\n",
       "            <td>afg </td> <td>1800</td> <td>7                                 </td>\n",
       "        </tr>\n",
       "        <tr>\n",
       "            <td>afg </td> <td>1801</td> <td>7                                 </td>\n",
       "        </tr>\n",
       "        <tr>\n",
       "            <td>afg </td> <td>1802</td> <td>7                                 </td>\n",
       "        </tr>\n",
       "        <tr>\n",
       "            <td>afg </td> <td>1803</td> <td>7                                 </td>\n",
       "        </tr>\n",
       "        <tr>\n",
       "            <td>afg </td> <td>1804</td> <td>7                                 </td>\n",
       "        </tr>\n",
       "        <tr>\n",
       "            <td>afg </td> <td>1805</td> <td>7                                 </td>\n",
       "        </tr>\n",
       "        <tr>\n",
       "            <td>afg </td> <td>1806</td> <td>7                                 </td>\n",
       "        </tr>\n",
       "        <tr>\n",
       "            <td>afg </td> <td>1807</td> <td>7                                 </td>\n",
       "        </tr>\n",
       "        <tr>\n",
       "            <td>afg </td> <td>1808</td> <td>7                                 </td>\n",
       "        </tr>\n",
       "        <tr>\n",
       "            <td>afg </td> <td>1809</td> <td>7                                 </td>\n",
       "        </tr>\n",
       "    </tbody>\n",
       "</table>\n",
       "<p>... (43402 rows omitted)</p>"
      ],
      "text/plain": [
       "geo  | time | children_per_woman_total_fertility\n",
       "afg  | 1800 | 7\n",
       "afg  | 1801 | 7\n",
       "afg  | 1802 | 7\n",
       "afg  | 1803 | 7\n",
       "afg  | 1804 | 7\n",
       "afg  | 1805 | 7\n",
       "afg  | 1806 | 7\n",
       "afg  | 1807 | 7\n",
       "afg  | 1808 | 7\n",
       "afg  | 1809 | 7\n",
       "... (43402 rows omitted)"
      ]
     },
     "execution_count": 375,
     "metadata": {},
     "output_type": "execute_result"
    }
   ],
   "source": [
    "fertility"
   ]
  },
  {
   "cell_type": "markdown",
   "metadata": {
    "deletable": false,
    "editable": false
   },
   "source": [
    "**Question 3.** Perhaps population is growing more slowly because people aren't living as long. Use the `life_expectancy` table to draw a line graph with the years 1970 and later on the horizontal axis that shows how the *life expectancy at birth* has changed in Bangladesh.\n",
    "\n",
    "<!--\n",
    "BEGIN QUESTION\n",
    "name: q1_3\n",
    "manual: true\n",
    "-->\n",
    "<!-- EXPORT TO PDF -->"
   ]
  },
  {
   "cell_type": "code",
   "execution_count": 376,
   "metadata": {
    "deletable": false,
    "export_pdf": true,
    "manual_grade": true,
    "manual_problem_id": "global_pop_3"
   },
   "outputs": [
    {
     "data": {
      "image/png": "[encoded data removed]",
      "text/plain": [
       "<Figure size 432x288 with 1 Axes>"
      ]
     },
     "metadata": {},
     "output_type": "display_data"
    }
   ],
   "source": [
    "#Fill in code here\n",
    "life_expectancy.where(\"geo\", are.equal_to(\"bgd\")).where(\"time\", are.above_or_equal_to(1970)).plot(\"time\", \"life_expectancy_years\")"
   ]
  },
  {
   "cell_type": "markdown",
   "metadata": {
    "deletable": false,
    "editable": false
   },
   "source": [
    "**Question 4.** Assuming everything else stays the same, do the trends in life expectancy in the graph above directly explain why the population growth rate decreased from 1985 to 2010 in Bangladesh? Why or why not? \n",
    "\n",
    "Hint: What happened in Bangladesh in 1991, and does that event explain the overall change in population growth rate?\n",
    "\n",
    "<!--\n",
    "BEGIN QUESTION\n",
    "name: q1_4\n",
    "manual: true\n",
    "-->\n",
    "<!-- EXPORT TO PDF -->"
   ]
  },
  {
   "cell_type": "markdown",
   "metadata": {
    "collapsed": true,
    "deletable": false,
    "export_pdf": true,
    "manual_grade": true,
    "manual_problem_id": "global_pop_4"
   },
   "source": [
    "No, the trends in life expectancy in the graph does not directly explain why the population growth rate decreased from 1985 to 2010 in Bangladesh. This is because in 1991, a devastating cyclone hit Bangladesh, evidently leading to a drastic decrease in population (killing more than 135000 people), causing a significant dip in life expectancy. However, because this event was a natural disaster and not a trend observed overtime, the graph still has a positive slope overall after the cyclone incident, indicating a continual and gradual increase in life expectancy. "
   ]
  },
  {
   "cell_type": "markdown",
   "metadata": {
    "deletable": false,
    "editable": false
   },
   "source": [
    "The `fertility` table contains a statistic that is often used to measure how many babies are being born, the *total fertility rate*. This number describes the [number of children a woman would have in her lifetime](https://www.measureevaluation.org/prh/rh_indicators/specific/fertility/total-fertility-rate), on average, if the current rates of birth by age of the mother persisted throughout her child bearing years, assuming she survived through age 49. "
   ]
  },
  {
   "cell_type": "markdown",
   "metadata": {
    "deletable": false,
    "editable": false
   },
   "source": [
    "**Question 5.** Write a function `fertility_over_time` that takes the Alpha-3 code of a `country` and a `start` year. It returns a two-column table with labels `Year` and `Children per woman` that can be used to generate a line chart of the country's fertility rate each year, starting at the `start` year. The plot should include the `start` year and all later years that appear in the `fertility` table. \n",
    "\n",
    "Then, in the next cell, call your `fertility_over_time` function on the Alpha-3 code for Bangladesh and the year 1970 in order to plot how Bangladesh's fertility rate has changed since 1970. Note that the function `fertility_over_time` should not return the plot itself. **The expression that draws the line plot is provided for you; please don't change it.**\n",
    "\n",
    "<!--\n",
    "BEGIN QUESTION\n",
    "name: q1_5\n",
    "-->"
   ]
  },
  {
   "cell_type": "code",
   "execution_count": 377,
   "metadata": {
    "deletable": false
   },
   "outputs": [
    {
     "data": {
      "image/png": "[encoded data removed]",
      "text/plain": [
       "<Figure size 432x288 with 1 Axes>"
      ]
     },
     "metadata": {},
     "output_type": "display_data"
    }
   ],
   "source": [
    "def fertility_over_time(country, start):\n",
    "    \"\"\"Create a two-column table that describes a country's total fertility rate each year.\"\"\"\n",
    "    country_fertility = fertility.where(\"geo\", are.equal_to(country)).where(\"time\", are.above_or_equal_to(start)).column(\"children_per_woman_total_fertility\")\n",
    "    country_fertility_after_start = fertility.where(\"geo\", are.equal_to(country)).where(\"time\", are.above_or_equal_to(start)).column(\"time\")\n",
    "    cleaned_table = Table().with_columns(\"Year\", country_fertility_after_start, \"Children per woman\", country_fertility)\n",
    "    return cleaned_table\n",
    "\n",
    "bangladesh_code = \"bgd\"\n",
    "fertility_over_time(bangladesh_code, 1970).plot(0, 1) # You should *not* change this line."
   ]
  },
  {
   "cell_type": "code",
   "execution_count": 378,
   "metadata": {
    "deletable": false,
    "editable": false
   },
   "outputs": [
    {
     "name": "stdout",
     "output_type": "stream",
     "text": [
      "~~~~~~~~~~~~~~~~~~~~~~~~~~~~~~~~~~~~~~~~~~~~~~~~~~~~~~~~~~~~~~~~~~~~~\n",
      "Running tests\n",
      "\n",
      "---------------------------------------------------------------------\n",
      "Test summary\n",
      "    Passed: 3\n",
      "    Failed: 0\n",
      "[ooooooooook] 100.0% passed\n",
      "\n"
     ]
    }
   ],
   "source": [
    "ok.grade(\"q1_5\");"
   ]
  },
  {
   "cell_type": "markdown",
   "metadata": {
    "deletable": false,
    "editable": false
   },
   "source": [
    "**Question 6.** Assuming everything else is constant, do the trends in fertility in the graph above help directly explain why the population growth rate decreased from 1985 to 2010 in Bangladesh? Why or why not?\n",
    "\n",
    "<!--\n",
    "BEGIN QUESTION\n",
    "name: q1_6\n",
    "manual: true\n",
    "-->\n",
    "<!-- EXPORT TO PDF -->"
   ]
  },
  {
   "cell_type": "markdown",
   "metadata": {
    "deletable": false,
    "export_pdf": true,
    "manual_grade": true,
    "manual_problem_id": "global_pop_6"
   },
   "source": [
    "Yes, the trends in fertility in the graph help directly explain why the population growth rate decreased from 1985 to 2010 in Bangladesh. This is because as shown in the fertility over time plot, the average number of children carried per women (y-axis) has dramatically decreased over the years. Thus, the plot has a negative slope throughout, showing that women are carrying less children, which directly corresponds to a decrease in population growth."
   ]
  },
  {
   "cell_type": "markdown",
   "metadata": {
    "deletable": false,
    "editable": false
   },
   "source": [
    "It has been observed that lower fertility rates are often associated with lower child mortality rates. The link has been attributed to family planning: if parents can expect that their children will all survive into adulthood, then they will choose to have fewer children. We can see if this association is evident in Bangladesh by plotting the relationship between total fertility rate and [child mortality rate per 1000 children](https://en.wikipedia.org/wiki/Child_mortality)."
   ]
  },
  {
   "cell_type": "markdown",
   "metadata": {
    "deletable": false,
    "editable": false
   },
   "source": [
    "**Question 7.** Using both the `fertility` and `child_mortality` tables, draw a scatter diagram that has Bangladesh's total fertility on the horizontal axis and its child mortality on the vertical axis with one point for each year, starting with 1970.\n",
    "\n",
    "**The expression that draws the scatter diagram is provided for you; please don't change it.** Instead, create a table called `post_1969_fertility_and_child_mortality` with the appropriate column labels and data in order to generate the chart correctly. Use the label `Children per woman` to describe total fertility and the label `Child deaths per 1000 born` to describe child mortality.\n",
    "\n",
    "<!--\n",
    "BEGIN QUESTION\n",
    "name: q1_7\n",
    "manual: false\n",
    "-->"
   ]
  },
  {
   "cell_type": "code",
   "execution_count": 379,
   "metadata": {
    "deletable": false
   },
   "outputs": [
    {
     "data": {
      "image/png": "[encoded data removed]",
      "text/plain": [
       "<Figure size 360x360 with 1 Axes>"
      ]
     },
     "metadata": {},
     "output_type": "display_data"
    }
   ],
   "source": [
    "bgd_fertility = fertility_over_time(\"bgd\", 1970)\n",
    "bgd_child_mortality = child_mortality.where(\"geo\", are.equal_to(\"bgd\")).where(\"time\", are.above_or_equal_to(1970)).relabel(\"child_mortality_under_5_per_1000_born\", \"Child deaths per 1000 born\")\n",
    "fertility_and_child_mortality = bgd_fertility.join(\"Year\", bgd_child_mortality, \"time\")\n",
    "post_1969_fertility_and_child_mortality = fertility_and_child_mortality.drop(\"geo\").drop('Year')\n",
    "\n",
    "post_1969_fertility_and_child_mortality.scatter('Children per woman', 'Child deaths per 1000 born') # You should *not* change this line."
   ]
  },
  {
   "cell_type": "code",
   "execution_count": 380,
   "metadata": {
    "deletable": false,
    "editable": false
   },
   "outputs": [
    {
     "name": "stdout",
     "output_type": "stream",
     "text": [
      "~~~~~~~~~~~~~~~~~~~~~~~~~~~~~~~~~~~~~~~~~~~~~~~~~~~~~~~~~~~~~~~~~~~~~\n",
      "Running tests\n",
      "\n",
      "---------------------------------------------------------------------\n",
      "Test summary\n",
      "    Passed: 2\n",
      "    Failed: 0\n",
      "[ooooooooook] 100.0% passed\n",
      "\n"
     ]
    }
   ],
   "source": [
    "ok.grade(\"q1_7\");"
   ]
  },
  {
   "cell_type": "markdown",
   "metadata": {
    "deletable": false,
    "editable": false
   },
   "source": [
    "**Question 8.** In one or two sentences, describe the association (if any) that is illustrated by this scatter diagram. Does the diagram show that reduced child mortality causes parents to choose to have fewer children?\n",
    "\n",
    "<!--\n",
    "BEGIN QUESTION\n",
    "name: q1_8\n",
    "manual: true\n",
    "-->\n",
    "<!-- EXPORT TO PDF -->"
   ]
  },
  {
   "cell_type": "markdown",
   "metadata": {
    "deletable": false,
    "export_pdf": true,
    "manual_grade": true,
    "manual_problem_id": "global_pop_8"
   },
   "source": [
    "There is a positive, linear association illustrated by this scatter diagram since the higher the child deaths per 1000 born, the more children there are per woman, and vise versa. However, even though there is an association, there is no causation since there are other possible explainations/factors not taken into account of, so this diagram does show that reduced child mortality causes parents to choose to have few children"
   ]
  },
  {
   "cell_type": "markdown",
   "metadata": {},
   "source": [
    "### Checkpoint (due Friday 9/27)\n",
    "#### Congratulations, you have reached the checkpoint! Run the submit cell below to generate the checkpoint submission."
   ]
  },
  {
   "cell_type": "code",
   "execution_count": 381,
   "metadata": {},
   "outputs": [
    {
     "data": {
      "application/javascript": [
       "IPython.notebook.save_checkpoint();"
      ],
      "text/plain": [
       "<IPython.core.display.Javascript object>"
      ]
     },
     "metadata": {},
     "output_type": "display_data"
    },
    {
     "data": {
      "application/javascript": [
       "IPython.notebook.save_notebook();"
      ],
      "text/plain": [
       "<IPython.core.display.Javascript object>"
      ]
     },
     "metadata": {},
     "output_type": "display_data"
    },
    {
     "name": "stdout",
     "output_type": "stream",
     "text": [
      "Saving notebook... Saved 'project1.ipynb'.\n",
      "Submit... 100% complete\n",
      "Submission successful for user: ireneliang@berkeley.edu\n",
      "URL: https://okpy.org/cal/data8/fa19/project1/submissions/81k7Wm\n",
      "\n"
     ]
    }
   ],
   "source": [
    "_ = ok.submit()"
   ]
  },
  {
   "cell_type": "markdown",
   "metadata": {
    "deletable": false,
    "editable": false
   },
   "source": [
    "### The World\n",
    "\n",
    "The change observed in Bangladesh since 1970 can also be observed in many other developing countries: health services improve, life expectancy increases, and child mortality decreases. At the same time, the fertility rate often plummets, and so the population growth rate decreases despite increasing longevity."
   ]
  },
  {
   "cell_type": "markdown",
   "metadata": {
    "deletable": false,
    "editable": false
   },
   "source": [
    "Run the cell below to generate two overlaid histograms, one for 1960 and one for 2010, that show the distributions of total fertility rates for these two years among all 201 countries in the `fertility` table."
   ]
  },
  {
   "cell_type": "code",
   "execution_count": 382,
   "metadata": {
    "deletable": false
   },
   "outputs": [
    {
     "data": {
      "image/png": "[encoded data removed]",
      "text/plain": [
       "<Figure size 432x288 with 1 Axes>"
      ]
     },
     "metadata": {},
     "output_type": "display_data"
    }
   ],
   "source": [
    "Table().with_columns(\n",
    "    '1960', fertility.where('time', 1960).column(2),\n",
    "    '2010', fertility.where('time', 2010).column(2)\n",
    ").hist(bins=np.arange(0, 10, 0.5), unit='child per woman')\n",
    "_ = plots.xlabel('Children per woman')\n",
    "_ = plots.ylabel('Percent per children per woman')\n",
    "_ = plots.xticks(np.arange(10))"
   ]
  },
  {
   "cell_type": "markdown",
   "metadata": {
    "deletable": false,
    "editable": false
   },
   "source": [
    "**Question 9.** Assign `fertility_statements` to an array of the numbers of each statement below that can be correctly inferred from these histograms.\n",
    "1. About the same number of countries had a fertility rate between 3.5 and 4.5 in both 1960 and 2010.\n",
    "1. In 2010, about 40% of countries had a fertility rate between 1.5 and 2.\n",
    "1. In 1960, less than 20% of countries had a fertility rate below 3.\n",
    "1. More countries had a fertility rate above 3 in 1960 than in 2010.\n",
    "1. At least half of countries had a fertility rate between 5 and 8 in 1960.\n",
    "1. At least half of countries had a fertility rate below 3 in 2010.\n",
    "\n",
    "<!--\n",
    "BEGIN QUESTION\n",
    "name: q1_9\n",
    "-->"
   ]
  },
  {
   "cell_type": "code",
   "execution_count": 383,
   "metadata": {
    "deletable": false
   },
   "outputs": [],
   "source": [
    "fertility_statements = make_array(1, 3, 4, 5, 6)"
   ]
  },
  {
   "cell_type": "code",
   "execution_count": 384,
   "metadata": {
    "deletable": false,
    "editable": false
   },
   "outputs": [
    {
     "name": "stdout",
     "output_type": "stream",
     "text": [
      "~~~~~~~~~~~~~~~~~~~~~~~~~~~~~~~~~~~~~~~~~~~~~~~~~~~~~~~~~~~~~~~~~~~~~\n",
      "Running tests\n",
      "\n",
      "---------------------------------------------------------------------\n",
      "Test summary\n",
      "    Passed: 1\n",
      "    Failed: 0\n",
      "[ooooooooook] 100.0% passed\n",
      "\n"
     ]
    }
   ],
   "source": [
    "ok.grade(\"q1_9\");"
   ]
  },
  {
   "cell_type": "markdown",
   "metadata": {
    "deletable": false,
    "editable": false
   },
   "source": [
    "**Question 10.** Draw a line plot of the world population from 1800 through 2005. The world population is the sum of all the country's populations. \n",
    "\n",
    "<!--\n",
    "BEGIN QUESTION\n",
    "name: q1_10\n",
    "manual: true\n",
    "-->\n",
    "<!-- EXPORT TO PDF -->"
   ]
  },
  {
   "cell_type": "code",
   "execution_count": 385,
   "metadata": {
    "deletable": false,
    "export_pdf": true,
    "manual_grade": true,
    "manual_problem_id": "global_pop_10"
   },
   "outputs": [
    {
     "data": {
      "image/png": "[encoded data removed]",
      "text/plain": [
       "<Figure size 432x288 with 1 Axes>"
      ]
     },
     "metadata": {},
     "output_type": "display_data"
    }
   ],
   "source": [
    "#Fill in code here\n",
    "population.drop(\"geo\").where(\"time\", are.between_or_equal_to(1800, 2005)).group(\"time\", sum).plot(\"time\",\"population_total sum\")"
   ]
  },
  {
   "cell_type": "markdown",
   "metadata": {
    "deletable": false,
    "editable": false
   },
   "source": [
    "**Question 11.** Create a function `stats_for_year` that takes a `year` and returns a table of statistics. The table it returns should have four columns: `geo`, `population_total`, `children_per_woman_total_fertility`, and `child_mortality_under_5_per_1000_born`. Each row should contain one Alpha-3 country code and three statistics: population, fertility rate, and child mortality for that `year` from the `population`, `fertility` and `child_mortality` tables. Only include rows for which all three statistics are available for the country and year.\n",
    "\n",
    "In addition, restrict the result to country codes that appears in `big_50`, an array of the 50 most populous countries in 2010. This restriction will speed up computations later in the project.\n",
    "\n",
    "After you write `stats_for_year`, try calling `stats_for_year` on any year between 1960 and 2010. Try to understand the output of stats_for_year.\n",
    "\n",
    "*Hint*: The tests for this question are quite comprehensive, so if you pass the tests, your function is probably correct. However, without calling your function yourself and looking at the output, it will be very difficult to understand any problems you have, so try your best to write the function correctly and check that it works before you rely on the `ok` tests to confirm your work.\n",
    "\n",
    "<!--\n",
    "BEGIN QUESTION\n",
    "name: q1_11\n",
    "manual: false\n",
    "-->"
   ]
  },
  {
   "cell_type": "code",
   "execution_count": 386,
   "metadata": {
    "deletable": false
   },
   "outputs": [
    {
     "data": {
      "text/html": [
       "<table border=\"1\" class=\"dataframe\">\n",
       "    <thead>\n",
       "        <tr>\n",
       "            <th>geo</th> <th>population_total</th> <th>children_per_woman_total_fertility</th> <th>child_mortality_under_5_per_1000_born</th>\n",
       "        </tr>\n",
       "    </thead>\n",
       "    <tbody>\n",
       "        <tr>\n",
       "            <td>afg </td> <td>19038420        </td> <td>7.81                              </td> <td>139.9                                </td>\n",
       "        </tr>\n",
       "        <tr>\n",
       "            <td>arg </td> <td>36648054        </td> <td>2.54                              </td> <td>20.8                                 </td>\n",
       "        </tr>\n",
       "        <tr>\n",
       "            <td>bgd </td> <td>128746273       </td> <td>3.23                              </td> <td>92.8                                 </td>\n",
       "        </tr>\n",
       "        <tr>\n",
       "            <td>bra </td> <td>173153066       </td> <td>2.4                               </td> <td>35                                   </td>\n",
       "        </tr>\n",
       "        <tr>\n",
       "            <td>can </td> <td>30420216        </td> <td>1.54                              </td> <td>6.3                                  </td>\n",
       "        </tr>\n",
       "        <tr>\n",
       "            <td>chn </td> <td>1262713651      </td> <td>1.45                              </td> <td>39.3                                 </td>\n",
       "        </tr>\n",
       "        <tr>\n",
       "            <td>cod </td> <td>46788238        </td> <td>7.14                              </td> <td>164.9                                </td>\n",
       "        </tr>\n",
       "        <tr>\n",
       "            <td>col </td> <td>39819279        </td> <td>2.68                              </td> <td>26                                   </td>\n",
       "        </tr>\n",
       "        <tr>\n",
       "            <td>deu </td> <td>81965830        </td> <td>1.35                              </td> <td>5.5                                  </td>\n",
       "        </tr>\n",
       "        <tr>\n",
       "            <td>dza </td> <td>30766551        </td> <td>2.63                              </td> <td>40.2                                 </td>\n",
       "        </tr>\n",
       "    </tbody>\n",
       "</table>\n",
       "<p>... (40 rows omitted)</p>"
      ],
      "text/plain": [
       "geo  | population_total | children_per_woman_total_fertility | child_mortality_under_5_per_1000_born\n",
       "afg  | 19038420         | 7.81                               | 139.9\n",
       "arg  | 36648054         | 2.54                               | 20.8\n",
       "bgd  | 128746273        | 3.23                               | 92.8\n",
       "bra  | 173153066        | 2.4                                | 35\n",
       "can  | 30420216         | 1.54                               | 6.3\n",
       "chn  | 1262713651       | 1.45                               | 39.3\n",
       "cod  | 46788238         | 7.14                               | 164.9\n",
       "col  | 39819279         | 2.68                               | 26\n",
       "deu  | 81965830         | 1.35                               | 5.5\n",
       "dza  | 30766551         | 2.63                               | 40.2\n",
       "... (40 rows omitted)"
      ]
     },
     "execution_count": 386,
     "metadata": {},
     "output_type": "execute_result"
    }
   ],
   "source": [
    "# We first create a population table that only includes the \n",
    "# 50 countries with the largest 2010 populations. We focus on \n",
    "# these 50 countries only so that plotting later will run faster.\n",
    "big_50 = population.where('time', are.equal_to(2010)).sort(\"population_total\", descending=True).take(np.arange(50)).column('geo')\n",
    "population_of_big_50 = population.where('time', are.above(1959)).where('geo', are.contained_in(big_50))\n",
    "\n",
    "def stats_for_year(year):\n",
    "    \"\"\"Return a table of the stats for each country that year.\"\"\"\n",
    "    p = population_of_big_50.where('time', are.equal_to(year)).drop('time')\n",
    "    f = fertility.where('time', are.equal_to(year)).drop('time')\n",
    "    c = child_mortality.where('time', are.equal_to(year)).drop('time')\n",
    "    return p.join('geo',f).join('geo',c)\n",
    "\n",
    "stats_for_year(1999)"
   ]
  },
  {
   "cell_type": "code",
   "execution_count": 387,
   "metadata": {
    "deletable": false,
    "editable": false
   },
   "outputs": [
    {
     "name": "stdout",
     "output_type": "stream",
     "text": [
      "~~~~~~~~~~~~~~~~~~~~~~~~~~~~~~~~~~~~~~~~~~~~~~~~~~~~~~~~~~~~~~~~~~~~~\n",
      "Running tests\n",
      "\n",
      "---------------------------------------------------------------------\n",
      "Test summary\n",
      "    Passed: 4\n",
      "    Failed: 0\n",
      "[ooooooooook] 100.0% passed\n",
      "\n"
     ]
    }
   ],
   "source": [
    "ok.grade(\"q1_11\");"
   ]
  },
  {
   "cell_type": "markdown",
   "metadata": {
    "deletable": false,
    "editable": false
   },
   "source": [
    "**Question 12.** Create a table called `pop_by_decade` with two columns called `decade` and `population`. It has a row for each `year` since 1960 that starts a decade. The `population` column contains the total population of all countries included in the result of `stats_for_year(year)` for the first `year` of the decade. For example, 1960 is the first year of the 1960's decade. You should see that these countries contain most of the world's population.\n",
    "\n",
    "*Hint:* One approach is to define a function `pop_for_year` that computes this total population, then `apply` it to the `decade` column.  The `stats_for_year` function from the previous question may be useful here.\n",
    "\n",
    "This first test is just a sanity check for your helper function if you choose to use it. You will not lose points for not implementing the function `pop_for_year`.\n",
    "\n",
    "**Note:** The cell where you will generate the `pop_by_decade` table is below the cell where you can choose to define the helper function `pop_for_year`. You should define your `pop_by_decade` table in the cell that starts with the table `decades` being defined. \n",
    "\n",
    "<!--\n",
    "BEGIN QUESTION\n",
    "name: q1_12_0\n",
    "manual: false\n",
    "points: 0\n",
    "-->"
   ]
  },
  {
   "cell_type": "code",
   "execution_count": 388,
   "metadata": {},
   "outputs": [],
   "source": [
    "def pop_for_year(year):\n",
    "    return sum(stats_for_year(year).column(\"population_total\"))"
   ]
  },
  {
   "cell_type": "code",
   "execution_count": 389,
   "metadata": {
    "deletable": false,
    "editable": false
   },
   "outputs": [
    {
     "name": "stdout",
     "output_type": "stream",
     "text": [
      "~~~~~~~~~~~~~~~~~~~~~~~~~~~~~~~~~~~~~~~~~~~~~~~~~~~~~~~~~~~~~~~~~~~~~\n",
      "Running tests\n",
      "\n",
      "---------------------------------------------------------------------\n",
      "Test summary\n",
      "    Passed: 3\n",
      "    Failed: 0\n",
      "[ooooooooook] 100.0% passed\n",
      "\n"
     ]
    }
   ],
   "source": [
    "ok.grade(\"q1_12_0\");"
   ]
  },
  {
   "cell_type": "markdown",
   "metadata": {
    "deletable": false,
    "editable": false
   },
   "source": [
    "Now that you've defined your helper function (if you've chosen to do so), define the `pop_by_decade` table.\n",
    "\n",
    "<!--\n",
    "BEGIN QUESTION\n",
    "name: q1_12\n",
    "manual: false\n",
    "-->"
   ]
  },
  {
   "cell_type": "code",
   "execution_count": 390,
   "metadata": {
    "deletable": false
   },
   "outputs": [
    {
     "data": {
      "text/html": [
       "<table border=\"1\" class=\"dataframe\">\n",
       "    <thead>\n",
       "        <tr>\n",
       "            <th>decade</th> <th>population</th>\n",
       "        </tr>\n",
       "    </thead>\n",
       "    <tbody>\n",
       "        <tr>\n",
       "            <td>1960  </td> <td>2,624,944,597</td>\n",
       "        </tr>\n",
       "        <tr>\n",
       "            <td>1970  </td> <td>3,211,487,418</td>\n",
       "        </tr>\n",
       "        <tr>\n",
       "            <td>1980  </td> <td>3,880,722,003</td>\n",
       "        </tr>\n",
       "        <tr>\n",
       "            <td>1990  </td> <td>4,648,434,558</td>\n",
       "        </tr>\n",
       "        <tr>\n",
       "            <td>2000  </td> <td>5,367,553,063</td>\n",
       "        </tr>\n",
       "        <tr>\n",
       "            <td>2010  </td> <td>6,040,810,517</td>\n",
       "        </tr>\n",
       "    </tbody>\n",
       "</table>"
      ],
      "text/plain": [
       "decade | population\n",
       "1960   | 2,624,944,597\n",
       "1970   | 3,211,487,418\n",
       "1980   | 3,880,722,003\n",
       "1990   | 4,648,434,558\n",
       "2000   | 5,367,553,063\n",
       "2010   | 6,040,810,517"
      ]
     },
     "execution_count": 390,
     "metadata": {},
     "output_type": "execute_result"
    }
   ],
   "source": [
    "decades = Table().with_column('decade', np.arange(1960, 2011, 10))\n",
    "pop_by_decade = decades.with_column(\"population\", decades.apply(pop_for_year, \"decade\"))\n",
    "pop_by_decade.set_format(1, NumberFormatter)"
   ]
  },
  {
   "cell_type": "code",
   "execution_count": 391,
   "metadata": {
    "deletable": false,
    "editable": false
   },
   "outputs": [
    {
     "name": "stdout",
     "output_type": "stream",
     "text": [
      "~~~~~~~~~~~~~~~~~~~~~~~~~~~~~~~~~~~~~~~~~~~~~~~~~~~~~~~~~~~~~~~~~~~~~\n",
      "Running tests\n",
      "\n",
      "---------------------------------------------------------------------\n",
      "Test summary\n",
      "    Passed: 2\n",
      "    Failed: 0\n",
      "[ooooooooook] 100.0% passed\n",
      "\n"
     ]
    }
   ],
   "source": [
    "ok.grade(\"q1_12\");"
   ]
  },
  {
   "cell_type": "markdown",
   "metadata": {
    "deletable": false,
    "editable": false
   },
   "source": [
    "The `countries` table describes various characteristics of countries. The `country` column contains the same codes as the `geo` column in each of the other data tables (`population`, `fertility`, and `child_mortality`). The `world_6region` column classifies each country into a region of the world. Run the cell below to inspect the data."
   ]
  },
  {
   "cell_type": "code",
   "execution_count": 392,
   "metadata": {},
   "outputs": [
    {
     "data": {
      "text/html": [
       "<table border=\"1\" class=\"dataframe\">\n",
       "    <thead>\n",
       "        <tr>\n",
       "            <th>country</th> <th>name</th> <th>world_6region</th>\n",
       "        </tr>\n",
       "    </thead>\n",
       "    <tbody>\n",
       "        <tr>\n",
       "            <td>afg      </td> <td>Afghanistan          </td> <td>south_asia              </td>\n",
       "        </tr>\n",
       "        <tr>\n",
       "            <td>akr_a_dhe</td> <td>Akrotiri and Dhekelia</td> <td>europe_central_asia     </td>\n",
       "        </tr>\n",
       "        <tr>\n",
       "            <td>alb      </td> <td>Albania              </td> <td>europe_central_asia     </td>\n",
       "        </tr>\n",
       "        <tr>\n",
       "            <td>dza      </td> <td>Algeria              </td> <td>middle_east_north_africa</td>\n",
       "        </tr>\n",
       "        <tr>\n",
       "            <td>asm      </td> <td>American Samoa       </td> <td>east_asia_pacific       </td>\n",
       "        </tr>\n",
       "        <tr>\n",
       "            <td>and      </td> <td>Andorra              </td> <td>europe_central_asia     </td>\n",
       "        </tr>\n",
       "        <tr>\n",
       "            <td>ago      </td> <td>Angola               </td> <td>sub_saharan_africa      </td>\n",
       "        </tr>\n",
       "        <tr>\n",
       "            <td>aia      </td> <td>Anguilla             </td> <td>america                 </td>\n",
       "        </tr>\n",
       "        <tr>\n",
       "            <td>atg      </td> <td>Antigua and Barbuda  </td> <td>america                 </td>\n",
       "        </tr>\n",
       "        <tr>\n",
       "            <td>arg      </td> <td>Argentina            </td> <td>america                 </td>\n",
       "        </tr>\n",
       "    </tbody>\n",
       "</table>\n",
       "<p>... (245 rows omitted)</p>"
      ],
      "text/plain": [
       "country   | name                  | world_6region\n",
       "afg       | Afghanistan           | south_asia\n",
       "akr_a_dhe | Akrotiri and Dhekelia | europe_central_asia\n",
       "alb       | Albania               | europe_central_asia\n",
       "dza       | Algeria               | middle_east_north_africa\n",
       "asm       | American Samoa        | east_asia_pacific\n",
       "and       | Andorra               | europe_central_asia\n",
       "ago       | Angola                | sub_saharan_africa\n",
       "aia       | Anguilla              | america\n",
       "atg       | Antigua and Barbuda   | america\n",
       "arg       | Argentina             | america\n",
       "... (245 rows omitted)"
      ]
     },
     "execution_count": 392,
     "metadata": {},
     "output_type": "execute_result"
    }
   ],
   "source": [
    "countries = Table.read_table('countries.csv').where('country', are.contained_in(population.group('geo').column('geo')))\n",
    "countries.select('country', 'name', 'world_6region')"
   ]
  },
  {
   "cell_type": "markdown",
   "metadata": {
    "deletable": false,
    "editable": false
   },
   "source": [
    "**Question 13.** Create a table called `region_counts` that has two columns, `region` and `count`. It should contain two columns: a region column and a count column that contains the number of countries in each region that appear in the result of `stats_for_year(1960)`. For example, one row would have `south_asia` as its `world_6region` value and an integer as its `count` value: the number of large South Asian countries for which we have population, fertility, and child mortality numbers from 1960.\n",
    "\n",
    "<!--\n",
    "BEGIN QUESTION\n",
    "name: q1_13\n",
    "-->"
   ]
  },
  {
   "cell_type": "code",
   "execution_count": 393,
   "metadata": {},
   "outputs": [
    {
     "data": {
      "text/html": [
       "<table border=\"1\" class=\"dataframe\">\n",
       "    <thead>\n",
       "        <tr>\n",
       "            <th>geo</th> <th>population_total</th> <th>children_per_woman_total_fertility</th> <th>child_mortality_under_5_per_1000_born</th>\n",
       "        </tr>\n",
       "    </thead>\n",
       "    <tbody>\n",
       "        <tr>\n",
       "            <td>afg </td> <td>8994793         </td> <td>7.67                              </td> <td>362.4                                </td>\n",
       "        </tr>\n",
       "        <tr>\n",
       "            <td>arg </td> <td>20619075        </td> <td>3.11                              </td> <td>73.2                                 </td>\n",
       "        </tr>\n",
       "        <tr>\n",
       "            <td>bgd </td> <td>48200702        </td> <td>6.73                              </td> <td>264.3                                </td>\n",
       "        </tr>\n",
       "        <tr>\n",
       "            <td>bra </td> <td>72493585        </td> <td>6.21                              </td> <td>171.8                                </td>\n",
       "        </tr>\n",
       "        <tr>\n",
       "            <td>can </td> <td>17909232        </td> <td>3.91                              </td> <td>32.6                                 </td>\n",
       "        </tr>\n",
       "        <tr>\n",
       "            <td>chn </td> <td>644450173       </td> <td>3.99                              </td> <td>309                                  </td>\n",
       "        </tr>\n",
       "        <tr>\n",
       "            <td>cod </td> <td>15248246        </td> <td>6                                 </td> <td>266                                  </td>\n",
       "        </tr>\n",
       "        <tr>\n",
       "            <td>col </td> <td>16480384        </td> <td>6.81                              </td> <td>127.3                                </td>\n",
       "        </tr>\n",
       "        <tr>\n",
       "            <td>deu </td> <td>73179665        </td> <td>2.41                              </td> <td>42.87                                </td>\n",
       "        </tr>\n",
       "        <tr>\n",
       "            <td>dza </td> <td>11124892        </td> <td>7.65                              </td> <td>245.7                                </td>\n",
       "        </tr>\n",
       "    </tbody>\n",
       "</table>\n",
       "<p>... (40 rows omitted)</p>"
      ],
      "text/plain": [
       "geo  | population_total | children_per_woman_total_fertility | child_mortality_under_5_per_1000_born\n",
       "afg  | 8994793          | 7.67                               | 362.4\n",
       "arg  | 20619075         | 3.11                               | 73.2\n",
       "bgd  | 48200702         | 6.73                               | 264.3\n",
       "bra  | 72493585         | 6.21                               | 171.8\n",
       "can  | 17909232         | 3.91                               | 32.6\n",
       "chn  | 644450173        | 3.99                               | 309\n",
       "cod  | 15248246         | 6                                  | 266\n",
       "col  | 16480384         | 6.81                               | 127.3\n",
       "deu  | 73179665         | 2.41                               | 42.87\n",
       "dza  | 11124892         | 7.65                               | 245.7\n",
       "... (40 rows omitted)"
      ]
     },
     "execution_count": 393,
     "metadata": {},
     "output_type": "execute_result"
    }
   ],
   "source": [
    "stats_for_year(1960)"
   ]
  },
  {
   "cell_type": "code",
   "execution_count": 394,
   "metadata": {
    "deletable": false
   },
   "outputs": [
    {
     "data": {
      "text/html": [
       "<table border=\"1\" class=\"dataframe\">\n",
       "    <thead>\n",
       "        <tr>\n",
       "            <th>region</th> <th>count</th>\n",
       "        </tr>\n",
       "    </thead>\n",
       "    <tbody>\n",
       "        <tr>\n",
       "            <td>america                 </td> <td>8    </td>\n",
       "        </tr>\n",
       "        <tr>\n",
       "            <td>east_asia_pacific       </td> <td>10   </td>\n",
       "        </tr>\n",
       "        <tr>\n",
       "            <td>europe_central_asia     </td> <td>10   </td>\n",
       "        </tr>\n",
       "        <tr>\n",
       "            <td>middle_east_north_africa</td> <td>7    </td>\n",
       "        </tr>\n",
       "        <tr>\n",
       "            <td>south_asia              </td> <td>5    </td>\n",
       "        </tr>\n",
       "        <tr>\n",
       "            <td>sub_saharan_africa      </td> <td>10   </td>\n",
       "        </tr>\n",
       "    </tbody>\n",
       "</table>"
      ],
      "text/plain": [
       "region                   | count\n",
       "america                  | 8\n",
       "east_asia_pacific        | 10\n",
       "europe_central_asia      | 10\n",
       "middle_east_north_africa | 7\n",
       "south_asia               | 5\n",
       "sub_saharan_africa       | 10"
      ]
     },
     "execution_count": 394,
     "metadata": {},
     "output_type": "execute_result"
    }
   ],
   "source": [
    "region_counts = countries.join(\"country\", stats_for_year(1960), \"geo\").group(\"world_6region\").relabel(\"world_6region\", \"region\")\n",
    "region_counts"
   ]
  },
  {
   "cell_type": "code",
   "execution_count": 395,
   "metadata": {
    "deletable": false,
    "editable": false
   },
   "outputs": [
    {
     "name": "stdout",
     "output_type": "stream",
     "text": [
      "~~~~~~~~~~~~~~~~~~~~~~~~~~~~~~~~~~~~~~~~~~~~~~~~~~~~~~~~~~~~~~~~~~~~~\n",
      "Running tests\n",
      "\n",
      "---------------------------------------------------------------------\n",
      "Test summary\n",
      "    Passed: 2\n",
      "    Failed: 0\n",
      "[ooooooooook] 100.0% passed\n",
      "\n"
     ]
    }
   ],
   "source": [
    "ok.grade(\"q1_13\");"
   ]
  },
  {
   "cell_type": "markdown",
   "metadata": {
    "deletable": false,
    "editable": false
   },
   "source": [
    "The following scatter diagram compares total fertility rate and child mortality rate for each country in 1960. The area of each dot represents the population of the country, and the color represents its region of the world. Run the cell. Do you think you can identify any of the dots?"
   ]
  },
  {
   "cell_type": "code",
   "execution_count": 396,
   "metadata": {
    "deletable": false
   },
   "outputs": [
    {
     "data": {
      "image/png": "[encoded data removed]",
      "text/plain": [
       "<Figure size 360x360 with 1 Axes>"
      ]
     },
     "metadata": {},
     "output_type": "display_data"
    }
   ],
   "source": [
    "from functools import lru_cache as cache\n",
    "\n",
    "# This cache annotation makes sure that if the same year\n",
    "# is passed as an argument twice, the work of computing\n",
    "# the result is only carried out once.\n",
    "@cache(None)\n",
    "def stats_relabeled(year):\n",
    "    \"\"\"Relabeled and cached version of stats_for_year.\"\"\"\n",
    "    return stats_for_year(year).relabel(2, 'Children per woman').relabel(3, 'Child deaths per 1000 born')\n",
    "\n",
    "def fertility_vs_child_mortality(year):\n",
    "    \"\"\"Draw a color scatter diagram comparing child mortality and fertility.\"\"\"\n",
    "    with_region = stats_relabeled(year).join('geo', countries.select('country', 'world_6region'), 'country')\n",
    "    with_region.scatter(2, 3, sizes=1, group=4, s=500)\n",
    "    plots.xlim(0,10)\n",
    "    plots.ylim(-50, 500)\n",
    "    plots.title(year)\n",
    "\n",
    "fertility_vs_child_mortality(1960)"
   ]
  },
  {
   "cell_type": "markdown",
   "metadata": {
    "deletable": false,
    "editable": false
   },
   "source": [
    "**Question 14.** Assign `scatter_statements` to an array of the numbers of each statement below that can be inferred from this scatter diagram for 1960. \n",
    "1. As a whole, the `europe_central_asia` region had the lowest child mortality rate.\n",
    "1. The lowest child mortality rate of any country was from an `east_asia_pacific` country.\n",
    "1. Most countries had a fertility rate above 5.\n",
    "1. There was an association between child mortality and fertility.\n",
    "1. The two largest countries by population also had the two highest child mortality rate.\n",
    "\n",
    "<!--\n",
    "BEGIN QUESTION\n",
    "name: q1_14\n",
    "-->"
   ]
  },
  {
   "cell_type": "code",
   "execution_count": 397,
   "metadata": {
    "deletable": false
   },
   "outputs": [],
   "source": [
    "scatter_statements = make_array(1, 3, 4)"
   ]
  },
  {
   "cell_type": "code",
   "execution_count": 398,
   "metadata": {
    "deletable": false,
    "editable": false
   },
   "outputs": [
    {
     "name": "stdout",
     "output_type": "stream",
     "text": [
      "~~~~~~~~~~~~~~~~~~~~~~~~~~~~~~~~~~~~~~~~~~~~~~~~~~~~~~~~~~~~~~~~~~~~~\n",
      "Running tests\n",
      "\n",
      "---------------------------------------------------------------------\n",
      "Test summary\n",
      "    Passed: 1\n",
      "    Failed: 0\n",
      "[ooooooooook] 100.0% passed\n",
      "\n"
     ]
    }
   ],
   "source": [
    "ok.grade(\"q1_14\");"
   ]
  },
  {
   "cell_type": "markdown",
   "metadata": {
    "deletable": false
   },
   "source": [
    "The result of the cell below is interactive. Drag the slider to the right to see how countries have changed over time. You'll find that the great divide between so-called \"Western\" and \"developing\" countries that existed in the 1960's has nearly disappeared. This shift in fertility rates is the reason that the global population is expected to grow more slowly in the 21st century than it did in the 19th and 20th centuries.\n",
    "\n",
    "**Note:** Don't worry if a red warning pops up when running the cell below. You'll still be able to run the cell!"
   ]
  },
  {
   "cell_type": "code",
   "execution_count": 399,
   "metadata": {
    "deletable": false,
    "scrolled": false
   },
   "outputs": [
    {
     "name": "stderr",
     "output_type": "stream",
     "text": [
      "/srv/app/venv/lib/python3.6/site-packages/datascience/tables.py:193: FutureWarning: Implicit column method lookup is deprecated.\n",
      "  warnings.warn(\"Implicit column method lookup is deprecated.\", FutureWarning)\n"
     ]
    },
    {
     "data": {
      "application/vnd.jupyter.widget-view+json": {
       "model_id": "99ccb6213768439a8151462d46373038",
       "version_major": 2,
       "version_minor": 0
      },
      "text/plain": [
       "interactive(children=(IntSlider(value=1960, description='year', max=2015, min=1960), Output()), _dom_classes=(…"
      ]
     },
     "metadata": {},
     "output_type": "display_data"
    }
   ],
   "source": [
    "import ipywidgets as widgets\n",
    "\n",
    "# This part takes a few minutes to run because it \n",
    "# computes 55 tables in advance: one for each year.\n",
    "Table().with_column('Year', np.arange(1960, 2016)).apply(stats_relabeled, 'Year')\n",
    "\n",
    "_ = widgets.interact(fertility_vs_child_mortality, \n",
    "                     year=widgets.IntSlider(min=1960, max=2015, value=1960))"
   ]
  },
  {
   "cell_type": "markdown",
   "metadata": {
    "deletable": false,
    "editable": false
   },
   "source": [
    "Now is a great time to take a break and watch the same data presented by [Hans Rosling in a 2010 TEDx talk](https://www.gapminder.org/videos/reducing-child-mortality-a-moral-and-environmental-imperative) with smoother animation and witty commentary."
   ]
  },
  {
   "cell_type": "markdown",
   "metadata": {
    "deletable": false,
    "editable": false
   },
   "source": [
    "## 2. Global Poverty\n"
   ]
  },
  {
   "cell_type": "markdown",
   "metadata": {
    "deletable": false,
    "editable": false
   },
   "source": [
    "In 1800, 85% of the world's 1 billion people lived in *extreme poverty*, defined by the United Nations as \"a condition characterized by severe deprivation of basic human needs, including food, safe drinking water, sanitation facilities, health, shelter, education and information.\" A common measure of extreme poverty is a person living on less than \\$1.25 per day.\n",
    "\n",
    "In 2018, the proportion of people living in extreme poverty was estimated to be 8%. Although the world rate of extreme poverty has declined consistently for hundreds of years, the number of people living in extreme poverty is still over 600 million. The United Nations recently adopted an [ambitious goal](http://www.un.org/sustainabledevelopment/poverty/): \"By 2030, eradicate extreme poverty for all people everywhere.\"\n",
    "In this section, we will examine extreme poverty trends around the world."
   ]
  },
  {
   "cell_type": "markdown",
   "metadata": {
    "deletable": false,
    "editable": false
   },
   "source": [
    "First, load the population and poverty rate by country and year and the country descriptions. While the `population` table has values for every recent year for many countries, the `poverty` table only includes certain years for each country in which a measurement of the rate of extreme poverty was available."
   ]
  },
  {
   "cell_type": "code",
   "execution_count": 400,
   "metadata": {},
   "outputs": [
    {
     "data": {
      "text/html": [
       "<table border=\"1\" class=\"dataframe\">\n",
       "    <thead>\n",
       "        <tr>\n",
       "            <th>geo</th> <th>time</th> <th>extreme_poverty_percent_people_below_125_a_day</th>\n",
       "        </tr>\n",
       "    </thead>\n",
       "    <tbody>\n",
       "        <tr>\n",
       "            <td>alb </td> <td>1996</td> <td>0.2                                           </td>\n",
       "        </tr>\n",
       "        <tr>\n",
       "            <td>alb </td> <td>2002</td> <td>0.73                                          </td>\n",
       "        </tr>\n",
       "        <tr>\n",
       "            <td>alb </td> <td>2004</td> <td>0.53                                          </td>\n",
       "        </tr>\n",
       "    </tbody>\n",
       "</table>\n",
       "<p>... (1096 rows omitted)</p>"
      ],
      "text/plain": [
       "<IPython.core.display.HTML object>"
      ]
     },
     "metadata": {},
     "output_type": "display_data"
    }
   ],
   "source": [
    "population = Table.read_table('population.csv')\n",
    "countries = Table.read_table('countries.csv').where('country', are.contained_in(population.group('geo').column('geo')))\n",
    "poverty = Table.read_table('poverty.csv')\n",
    "poverty.show(3)"
   ]
  },
  {
   "cell_type": "markdown",
   "metadata": {
    "deletable": false,
    "editable": false
   },
   "source": [
    "**Question 1.** Assign `latest_poverty` to a three-column table with one row for each country that appears in the `poverty` table. The first column should contain the 3-letter code for the country. The second column should contain the most recent year for which an extreme poverty rate is available for the country. The third column should contain the poverty rate in that year. **Do not change the last line, so that the labels of your table are set correctly.**\n",
    "\n",
    "*Hint*: think about how ```group``` works: it does a sequential search of the table (from top to bottom) and collects values in the array in the order in which they appear, and then applies a function to that array. The `first` function may be helpful, but you are not required to use it.\n",
    "\n",
    "<!--\n",
    "BEGIN QUESTION\n",
    "name: q2_1\n",
    "-->"
   ]
  },
  {
   "cell_type": "code",
   "execution_count": 401,
   "metadata": {
    "deletable": false
   },
   "outputs": [
    {
     "data": {
      "text/html": [
       "<table border=\"1\" class=\"dataframe\">\n",
       "    <thead>\n",
       "        <tr>\n",
       "            <th>geo</th> <th>time</th> <th>poverty_percent</th>\n",
       "        </tr>\n",
       "    </thead>\n",
       "    <tbody>\n",
       "        <tr>\n",
       "            <td>ago </td> <td>2009</td> <td>43.37          </td>\n",
       "        </tr>\n",
       "        <tr>\n",
       "            <td>alb </td> <td>2012</td> <td>0.46           </td>\n",
       "        </tr>\n",
       "        <tr>\n",
       "            <td>arg </td> <td>2011</td> <td>1.41           </td>\n",
       "        </tr>\n",
       "        <tr>\n",
       "            <td>arm </td> <td>2012</td> <td>1.75           </td>\n",
       "        </tr>\n",
       "        <tr>\n",
       "            <td>aus </td> <td>2003</td> <td>1.36           </td>\n",
       "        </tr>\n",
       "        <tr>\n",
       "            <td>aut </td> <td>2004</td> <td>0.34           </td>\n",
       "        </tr>\n",
       "        <tr>\n",
       "            <td>aze </td> <td>2008</td> <td>0.31           </td>\n",
       "        </tr>\n",
       "        <tr>\n",
       "            <td>bdi </td> <td>2006</td> <td>81.32          </td>\n",
       "        </tr>\n",
       "        <tr>\n",
       "            <td>bel </td> <td>2000</td> <td>0.5            </td>\n",
       "        </tr>\n",
       "        <tr>\n",
       "            <td>ben </td> <td>2012</td> <td>51.61          </td>\n",
       "        </tr>\n",
       "    </tbody>\n",
       "</table>\n",
       "<p>... (135 rows omitted)</p>"
      ],
      "text/plain": [
       "geo  | time | poverty_percent\n",
       "ago  | 2009 | 43.37\n",
       "alb  | 2012 | 0.46\n",
       "arg  | 2011 | 1.41\n",
       "arm  | 2012 | 1.75\n",
       "aus  | 2003 | 1.36\n",
       "aut  | 2004 | 0.34\n",
       "aze  | 2008 | 0.31\n",
       "bdi  | 2006 | 81.32\n",
       "bel  | 2000 | 0.5\n",
       "ben  | 2012 | 51.61\n",
       "... (135 rows omitted)"
      ]
     },
     "execution_count": 401,
     "metadata": {},
     "output_type": "execute_result"
    }
   ],
   "source": [
    "def first(values):\n",
    "    return values.item(0)\n",
    "\n",
    "latest_poverty = poverty.sort(\"time\", descending= True).group(\"geo\", first)\n",
    "latest_poverty = latest_poverty.relabeled(0, 'geo').relabeled(1, 'time').relabeled(2, 'poverty_percent') # You should *not* change this line.\n",
    "latest_poverty"
   ]
  },
  {
   "cell_type": "code",
   "execution_count": 402,
   "metadata": {
    "deletable": false,
    "editable": false
   },
   "outputs": [
    {
     "name": "stdout",
     "output_type": "stream",
     "text": [
      "~~~~~~~~~~~~~~~~~~~~~~~~~~~~~~~~~~~~~~~~~~~~~~~~~~~~~~~~~~~~~~~~~~~~~\n",
      "Running tests\n",
      "\n",
      "---------------------------------------------------------------------\n",
      "Test summary\n",
      "    Passed: 2\n",
      "    Failed: 0\n",
      "[ooooooooook] 100.0% passed\n",
      "\n"
     ]
    }
   ],
   "source": [
    "ok.grade(\"q2_1\");"
   ]
  },
  {
   "cell_type": "markdown",
   "metadata": {
    "deletable": false,
    "editable": false
   },
   "source": [
    "**Question 2.** Using both `latest_poverty` and `population`, create a four-column table called `recent_poverty_total` with one row for each country in `latest_poverty`. The four columns should have the following labels and contents:\n",
    "1. `geo` contains the 3-letter country code,\n",
    "1. `poverty_percent` contains the most recent poverty percent,\n",
    "1. `population_total` contains the population of the country in 2010,\n",
    "1. `poverty_total` contains the number of people in poverty **rounded to the nearest integer**, based on the 2010 population and most recent poverty rate.\n",
    "\n",
    "<!--\n",
    "BEGIN QUESTION\n",
    "name: q2_2\n",
    "-->"
   ]
  },
  {
   "cell_type": "code",
   "execution_count": 403,
   "metadata": {
    "deletable": false
   },
   "outputs": [
    {
     "data": {
      "text/html": [
       "<table border=\"1\" class=\"dataframe\">\n",
       "    <thead>\n",
       "        <tr>\n",
       "            <th>geo</th> <th>poverty_percent</th> <th>population_total</th> <th>poverty_total</th>\n",
       "        </tr>\n",
       "    </thead>\n",
       "    <tbody>\n",
       "        <tr>\n",
       "            <td>ago </td> <td>43.37          </td> <td>21219954        </td> <td>9.20309e+06  </td>\n",
       "        </tr>\n",
       "        <tr>\n",
       "            <td>alb </td> <td>0.46           </td> <td>2901883         </td> <td>13349        </td>\n",
       "        </tr>\n",
       "        <tr>\n",
       "            <td>arg </td> <td>1.41           </td> <td>41222875        </td> <td>581243       </td>\n",
       "        </tr>\n",
       "        <tr>\n",
       "            <td>arm </td> <td>1.75           </td> <td>2963496         </td> <td>51861        </td>\n",
       "        </tr>\n",
       "        <tr>\n",
       "            <td>aus </td> <td>1.36           </td> <td>22162863        </td> <td>301415       </td>\n",
       "        </tr>\n",
       "        <tr>\n",
       "            <td>aut </td> <td>0.34           </td> <td>8391986         </td> <td>28533        </td>\n",
       "        </tr>\n",
       "        <tr>\n",
       "            <td>aze </td> <td>0.31           </td> <td>9099893         </td> <td>28210        </td>\n",
       "        </tr>\n",
       "        <tr>\n",
       "            <td>bdi </td> <td>81.32          </td> <td>9461117         </td> <td>7.69378e+06  </td>\n",
       "        </tr>\n",
       "        <tr>\n",
       "            <td>bel </td> <td>0.5            </td> <td>10929978        </td> <td>54650        </td>\n",
       "        </tr>\n",
       "        <tr>\n",
       "            <td>ben </td> <td>51.61          </td> <td>9509798         </td> <td>4.90801e+06  </td>\n",
       "        </tr>\n",
       "    </tbody>\n",
       "</table>\n",
       "<p>... (135 rows omitted)</p>"
      ],
      "text/plain": [
       "geo  | poverty_percent | population_total | poverty_total\n",
       "ago  | 43.37           | 21219954         | 9.20309e+06\n",
       "alb  | 0.46            | 2901883          | 13349\n",
       "arg  | 1.41            | 41222875         | 581243\n",
       "arm  | 1.75            | 2963496          | 51861\n",
       "aus  | 1.36            | 22162863         | 301415\n",
       "aut  | 0.34            | 8391986          | 28533\n",
       "aze  | 0.31            | 9099893          | 28210\n",
       "bdi  | 81.32           | 9461117          | 7.69378e+06\n",
       "bel  | 0.5             | 10929978         | 54650\n",
       "ben  | 51.61           | 9509798          | 4.90801e+06\n",
       "... (135 rows omitted)"
      ]
     },
     "execution_count": 403,
     "metadata": {},
     "output_type": "execute_result"
    }
   ],
   "source": [
    "poverty_and_pop = population.where(\"time\", are.equal_to(2010)).join(\"geo\", latest_poverty).drop(\"time\")\n",
    "recent_poverty_total = poverty_and_pop.with_column(\"poverty_total\", np.round(poverty_and_pop.column(\"population_total\") * poverty_and_pop.column(\"poverty_percent\")/100)).drop(\"time_2\").select(\"geo\", \"poverty_percent\", \"population_total\", \"poverty_total\")\n",
    "recent_poverty_total"
   ]
  },
  {
   "cell_type": "code",
   "execution_count": 404,
   "metadata": {
    "deletable": false,
    "editable": false
   },
   "outputs": [
    {
     "name": "stdout",
     "output_type": "stream",
     "text": [
      "~~~~~~~~~~~~~~~~~~~~~~~~~~~~~~~~~~~~~~~~~~~~~~~~~~~~~~~~~~~~~~~~~~~~~\n",
      "Running tests\n",
      "\n",
      "---------------------------------------------------------------------\n",
      "Test summary\n",
      "    Passed: 3\n",
      "    Failed: 0\n",
      "[ooooooooook] 100.0% passed\n",
      "\n"
     ]
    }
   ],
   "source": [
    "ok.grade(\"q2_2\");"
   ]
  },
  {
   "cell_type": "markdown",
   "metadata": {
    "deletable": false,
    "editable": false
   },
   "source": [
    "**Question 3.** Assign the name `poverty_percent` to the known percentage of the world’s 2010 population that were living in extreme poverty. Assume that the `poverty_total` numbers in the `recent_poverty_total` table describe **all** people in 2010 living in extreme poverty. You should find a number that is above the 2018 global estimate of 8%, since many country-specific poverty rates are older than 2018.\n",
    "\n",
    "*Hint*: The sum of the `population_total` column in the `recent_poverty_total` table is not the world population, because only a subset of the world's countries are included in the `recent_poverty_total` table (only some countries have known poverty rates). Use the `population` table to compute the world's 2010 total population..\n",
    "\n",
    "<!--\n",
    "BEGIN QUESTION\n",
    "name: q2_3\n",
    "-->"
   ]
  },
  {
   "cell_type": "code",
   "execution_count": 405,
   "metadata": {
    "deletable": false
   },
   "outputs": [
    {
     "data": {
      "text/plain": [
       "14.299370218520854"
      ]
     },
     "execution_count": 405,
     "metadata": {},
     "output_type": "execute_result"
    }
   ],
   "source": [
    "poverty_percent = (sum(recent_poverty_total.column(\"poverty_total\"))) / (sum(population.where(\"time\", are.equal_to(2010)).column(\"population_total\"))) * 100\n",
    "poverty_percent"
   ]
  },
  {
   "cell_type": "code",
   "execution_count": 406,
   "metadata": {
    "deletable": false,
    "editable": false
   },
   "outputs": [
    {
     "name": "stdout",
     "output_type": "stream",
     "text": [
      "~~~~~~~~~~~~~~~~~~~~~~~~~~~~~~~~~~~~~~~~~~~~~~~~~~~~~~~~~~~~~~~~~~~~~\n",
      "Running tests\n",
      "\n",
      "---------------------------------------------------------------------\n",
      "Test summary\n",
      "    Passed: 1\n",
      "    Failed: 0\n",
      "[ooooooooook] 100.0% passed\n",
      "\n"
     ]
    }
   ],
   "source": [
    "ok.grade(\"q2_3\");"
   ]
  },
  {
   "cell_type": "markdown",
   "metadata": {
    "deletable": false,
    "editable": false
   },
   "source": [
    "The `countries` table includes not only the name and region of countries, but also their positions on the globe."
   ]
  },
  {
   "cell_type": "code",
   "execution_count": 407,
   "metadata": {
    "deletable": false,
    "editable": false
   },
   "outputs": [
    {
     "data": {
      "text/html": [
       "<table border=\"1\" class=\"dataframe\">\n",
       "    <thead>\n",
       "        <tr>\n",
       "            <th>country</th> <th>name</th> <th>world_4region</th> <th>latitude</th> <th>longitude</th>\n",
       "        </tr>\n",
       "    </thead>\n",
       "    <tbody>\n",
       "        <tr>\n",
       "            <td>afg      </td> <td>Afghanistan          </td> <td>asia         </td> <td>33      </td> <td>66       </td>\n",
       "        </tr>\n",
       "        <tr>\n",
       "            <td>akr_a_dhe</td> <td>Akrotiri and Dhekelia</td> <td>europe       </td> <td>nan     </td> <td>nan      </td>\n",
       "        </tr>\n",
       "        <tr>\n",
       "            <td>alb      </td> <td>Albania              </td> <td>europe       </td> <td>41      </td> <td>20       </td>\n",
       "        </tr>\n",
       "        <tr>\n",
       "            <td>dza      </td> <td>Algeria              </td> <td>africa       </td> <td>28      </td> <td>3        </td>\n",
       "        </tr>\n",
       "        <tr>\n",
       "            <td>asm      </td> <td>American Samoa       </td> <td>asia         </td> <td>-11.056 </td> <td>-171.082 </td>\n",
       "        </tr>\n",
       "        <tr>\n",
       "            <td>and      </td> <td>Andorra              </td> <td>europe       </td> <td>42.5078 </td> <td>1.52109  </td>\n",
       "        </tr>\n",
       "        <tr>\n",
       "            <td>ago      </td> <td>Angola               </td> <td>africa       </td> <td>-12.5   </td> <td>18.5     </td>\n",
       "        </tr>\n",
       "        <tr>\n",
       "            <td>aia      </td> <td>Anguilla             </td> <td>americas     </td> <td>18.2167 </td> <td>-63.05   </td>\n",
       "        </tr>\n",
       "        <tr>\n",
       "            <td>atg      </td> <td>Antigua and Barbuda  </td> <td>americas     </td> <td>17.05   </td> <td>-61.8    </td>\n",
       "        </tr>\n",
       "        <tr>\n",
       "            <td>arg      </td> <td>Argentina            </td> <td>americas     </td> <td>-34     </td> <td>-64      </td>\n",
       "        </tr>\n",
       "    </tbody>\n",
       "</table>\n",
       "<p>... (245 rows omitted)</p>"
      ],
      "text/plain": [
       "country   | name                  | world_4region | latitude | longitude\n",
       "afg       | Afghanistan           | asia          | 33       | 66\n",
       "akr_a_dhe | Akrotiri and Dhekelia | europe        | nan      | nan\n",
       "alb       | Albania               | europe        | 41       | 20\n",
       "dza       | Algeria               | africa        | 28       | 3\n",
       "asm       | American Samoa        | asia          | -11.056  | -171.082\n",
       "and       | Andorra               | europe        | 42.5078  | 1.52109\n",
       "ago       | Angola                | africa        | -12.5    | 18.5\n",
       "aia       | Anguilla              | americas      | 18.2167  | -63.05\n",
       "atg       | Antigua and Barbuda   | americas      | 17.05    | -61.8\n",
       "arg       | Argentina             | americas      | -34      | -64\n",
       "... (245 rows omitted)"
      ]
     },
     "execution_count": 407,
     "metadata": {},
     "output_type": "execute_result"
    }
   ],
   "source": [
    "countries.select('country', 'name', 'world_4region', 'latitude', 'longitude')"
   ]
  },
  {
   "cell_type": "markdown",
   "metadata": {
    "deletable": false,
    "editable": false
   },
   "source": [
    "**Question 4.** Using both `countries` and `recent_poverty_total`, create a five-column table called `poverty_map` with one row for every country in `recent_poverty_total`.  The five columns should have the following labels and contents:\n",
    "1. `latitude` contains the country's latitude,\n",
    "1. `longitude` contains the country's longitude,\n",
    "1. `name` contains the country's name,\n",
    "1. `region` contains the country's region from the `world_4region` column of `countries`,\n",
    "1. `poverty_total` contains the country's poverty total.\n",
    "\n",
    "<!--\n",
    "BEGIN QUESTION\n",
    "name: q2_4\n",
    "-->"
   ]
  },
  {
   "cell_type": "code",
   "execution_count": 408,
   "metadata": {
    "deletable": false
   },
   "outputs": [
    {
     "data": {
      "text/html": [
       "<table border=\"1\" class=\"dataframe\">\n",
       "    <thead>\n",
       "        <tr>\n",
       "            <th>latitude</th> <th>longitude</th> <th>name</th> <th>region</th> <th>poverty_total</th>\n",
       "        </tr>\n",
       "    </thead>\n",
       "    <tbody>\n",
       "        <tr>\n",
       "            <td>-12.5   </td> <td>18.5     </td> <td>Angola    </td> <td>africa  </td> <td>9.20309e+06  </td>\n",
       "        </tr>\n",
       "        <tr>\n",
       "            <td>41      </td> <td>20       </td> <td>Albania   </td> <td>europe  </td> <td>13349        </td>\n",
       "        </tr>\n",
       "        <tr>\n",
       "            <td>-34     </td> <td>-64      </td> <td>Argentina </td> <td>americas</td> <td>581243       </td>\n",
       "        </tr>\n",
       "        <tr>\n",
       "            <td>40.25   </td> <td>45       </td> <td>Armenia   </td> <td>europe  </td> <td>51861        </td>\n",
       "        </tr>\n",
       "        <tr>\n",
       "            <td>-25     </td> <td>135      </td> <td>Australia </td> <td>asia    </td> <td>301415       </td>\n",
       "        </tr>\n",
       "        <tr>\n",
       "            <td>47.3333 </td> <td>13.3333  </td> <td>Austria   </td> <td>europe  </td> <td>28533        </td>\n",
       "        </tr>\n",
       "        <tr>\n",
       "            <td>40.5    </td> <td>47.5     </td> <td>Azerbaijan</td> <td>europe  </td> <td>28210        </td>\n",
       "        </tr>\n",
       "        <tr>\n",
       "            <td>-3.5    </td> <td>30       </td> <td>Burundi   </td> <td>africa  </td> <td>7.69378e+06  </td>\n",
       "        </tr>\n",
       "        <tr>\n",
       "            <td>50.75   </td> <td>4.5      </td> <td>Belgium   </td> <td>europe  </td> <td>54650        </td>\n",
       "        </tr>\n",
       "        <tr>\n",
       "            <td>9.5     </td> <td>2.25     </td> <td>Benin     </td> <td>africa  </td> <td>4.90801e+06  </td>\n",
       "        </tr>\n",
       "    </tbody>\n",
       "</table>\n",
       "<p>... (135 rows omitted)</p>"
      ],
      "text/plain": [
       "latitude | longitude | name       | region   | poverty_total\n",
       "-12.5    | 18.5      | Angola     | africa   | 9.20309e+06\n",
       "41       | 20        | Albania    | europe   | 13349\n",
       "-34      | -64       | Argentina  | americas | 581243\n",
       "40.25    | 45        | Armenia    | europe   | 51861\n",
       "-25      | 135       | Australia  | asia     | 301415\n",
       "47.3333  | 13.3333   | Austria    | europe   | 28533\n",
       "40.5     | 47.5      | Azerbaijan | europe   | 28210\n",
       "-3.5     | 30        | Burundi    | africa   | 7.69378e+06\n",
       "50.75    | 4.5       | Belgium    | europe   | 54650\n",
       "9.5      | 2.25      | Benin      | africa   | 4.90801e+06\n",
       "... (135 rows omitted)"
      ]
     },
     "execution_count": 408,
     "metadata": {},
     "output_type": "execute_result"
    }
   ],
   "source": [
    "poverty_map = countries.join(\"country\", recent_poverty_total, \"geo\").select(\"latitude\", \"longitude\", \"name\", \"world_4region\", \"poverty_total\").relabel(\"world_4region\", \"region\")\n",
    "poverty_map"
   ]
  },
  {
   "cell_type": "code",
   "execution_count": 409,
   "metadata": {
    "deletable": false,
    "editable": false
   },
   "outputs": [
    {
     "name": "stdout",
     "output_type": "stream",
     "text": [
      "~~~~~~~~~~~~~~~~~~~~~~~~~~~~~~~~~~~~~~~~~~~~~~~~~~~~~~~~~~~~~~~~~~~~~\n",
      "Running tests\n",
      "\n",
      "---------------------------------------------------------------------\n",
      "Test summary\n",
      "    Passed: 2\n",
      "    Failed: 0\n",
      "[ooooooooook] 100.0% passed\n",
      "\n"
     ]
    }
   ],
   "source": [
    "ok.grade(\"q2_4\");"
   ]
  },
  {
   "cell_type": "markdown",
   "metadata": {
    "deletable": false,
    "editable": false
   },
   "source": [
    "Run the cell below to draw a map of the world in which the areas of circles represent the number of people living in extreme poverty. Double-click on the map to zoom in."
   ]
  },
  {
   "cell_type": "code",
   "execution_count": 410,
   "metadata": {
    "deletable": false,
    "editable": false
   },
   "outputs": [
    {
     "data": {
      "text/html": [
       "<div style=\"width:100%;\"><div style=\"position:relative;width:100%;height:0;padding-bottom:60%;\"><iframe src=\"data:text/html;charset=utf-8;base64,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\" style=\"position:absolute;width:100%;height:100%;left:0;top:0;border:none !important;\" allowfullscreen webkitallowfullscreen mozallowfullscreen></iframe></div></div>"
      ],
      "text/plain": [
       "<datascience.maps.Map at 0x7f579bb53ba8>"
      ]
     },
     "execution_count": 410,
     "metadata": {},
     "output_type": "execute_result"
    }
   ],
   "source": [
    "# It may take a few seconds to generate this map.\n",
    "colors = {'africa': 'blue', 'europe': 'black', 'asia': 'red', 'americas': 'green'}\n",
    "scaled = poverty_map.with_columns(\n",
    "    'poverty_total', 1e-4 * poverty_map.column('poverty_total'),\n",
    "    'region', poverty_map.apply(colors.get, 'region')\n",
    ")\n",
    "Circle.map_table(scaled)"
   ]
  },
  {
   "cell_type": "markdown",
   "metadata": {
    "deletable": false,
    "editable": false
   },
   "source": [
    "Although people live in extreme poverty throughout the world (with more than 5 million in the United States), the largest numbers are in Asia and Africa."
   ]
  },
  {
   "cell_type": "markdown",
   "metadata": {
    "deletable": false,
    "editable": false
   },
   "source": [
    "**Question 5.** Assign `largest` to a two-column table with the `name` (not the 3-letter code) and `poverty_total` of the 10 countries with the largest number of people living in extreme poverty.\n",
    "\n",
    "<!--\n",
    "BEGIN QUESTION\n",
    "name: q2_5\n",
    "-->"
   ]
  },
  {
   "cell_type": "code",
   "execution_count": 411,
   "metadata": {
    "deletable": false
   },
   "outputs": [
    {
     "data": {
      "text/html": [
       "<table border=\"1\" class=\"dataframe\">\n",
       "    <thead>\n",
       "        <tr>\n",
       "            <th>name</th> <th>poverty_total</th>\n",
       "        </tr>\n",
       "    </thead>\n",
       "    <tbody>\n",
       "        <tr>\n",
       "            <td>India           </td> <td>290,881,638.00</td>\n",
       "        </tr>\n",
       "        <tr>\n",
       "            <td>Nigeria         </td> <td>98,891,167.00 </td>\n",
       "        </tr>\n",
       "        <tr>\n",
       "            <td>China           </td> <td>83,944,643.00 </td>\n",
       "        </tr>\n",
       "        <tr>\n",
       "            <td>Bangladesh      </td> <td>65,574,256.00 </td>\n",
       "        </tr>\n",
       "        <tr>\n",
       "            <td>Congo, Dem. Rep.</td> <td>57,841,438.00 </td>\n",
       "        </tr>\n",
       "        <tr>\n",
       "            <td>Indonesia       </td> <td>39,141,326.00 </td>\n",
       "        </tr>\n",
       "        <tr>\n",
       "            <td>Ethiopia        </td> <td>32,213,991.00 </td>\n",
       "        </tr>\n",
       "        <tr>\n",
       "            <td>Pakistan        </td> <td>21,663,595.00 </td>\n",
       "        </tr>\n",
       "        <tr>\n",
       "            <td>Tanzania        </td> <td>19,847,979.00 </td>\n",
       "        </tr>\n",
       "        <tr>\n",
       "            <td>Madagascar      </td> <td>18,480,426.00 </td>\n",
       "        </tr>\n",
       "    </tbody>\n",
       "</table>"
      ],
      "text/plain": [
       "name             | poverty_total\n",
       "India            | 290,881,638.00\n",
       "Nigeria          | 98,891,167.00\n",
       "China            | 83,944,643.00\n",
       "Bangladesh       | 65,574,256.00\n",
       "Congo, Dem. Rep. | 57,841,438.00\n",
       "Indonesia        | 39,141,326.00\n",
       "Ethiopia         | 32,213,991.00\n",
       "Pakistan         | 21,663,595.00\n",
       "Tanzania         | 19,847,979.00\n",
       "Madagascar       | 18,480,426.00"
      ]
     },
     "execution_count": 411,
     "metadata": {},
     "output_type": "execute_result"
    }
   ],
   "source": [
    "largest = poverty_map.select(\"name\", \"poverty_total\").sort(\"poverty_total\", descending=True).take(np.arange(0, 10))\n",
    "largest.set_format('poverty_total', NumberFormatter)"
   ]
  },
  {
   "cell_type": "code",
   "execution_count": 412,
   "metadata": {
    "deletable": false,
    "editable": false
   },
   "outputs": [
    {
     "name": "stdout",
     "output_type": "stream",
     "text": [
      "~~~~~~~~~~~~~~~~~~~~~~~~~~~~~~~~~~~~~~~~~~~~~~~~~~~~~~~~~~~~~~~~~~~~~\n",
      "Running tests\n",
      "\n",
      "---------------------------------------------------------------------\n",
      "Test summary\n",
      "    Passed: 3\n",
      "    Failed: 0\n",
      "[ooooooooook] 100.0% passed\n",
      "\n"
     ]
    }
   ],
   "source": [
    "ok.grade(\"q2_5\");"
   ]
  },
  {
   "cell_type": "markdown",
   "metadata": {
    "deletable": false
   },
   "source": [
    "**Question 6.** Write a function called `poverty_timeline` that takes **the name of a country** as its argument. It should draw a line plot of the number of people living in poverty in that country with time on the horizontal axis. The line plot should have a point for each row in the `poverty` table for that country. To compute the population living in poverty from a poverty percentage, multiply by the population of the country **in that year**.\n",
    "\n",
    "*Hint:* This question is long. Feel free to create cells and experiment. "
   ]
  },
  {
   "cell_type": "code",
   "execution_count": 413,
   "metadata": {},
   "outputs": [],
   "source": [
    "def poverty_timeline(country):\n",
    "    '''Draw a timeline of people living in extreme poverty in a country.'''\n",
    "    geo = countries.where('name', are.equal_to(country)).column('country').item(0)\n",
    "    # This solution will take multiple lines of code. Use as many as you need\n",
    "    pov_country = poverty.where(\"geo\", are.equal_to(geo))\n",
    "    pop_country = population.where(\"geo\", are.equal_to(geo)).join(\"time\", pov_country)\n",
    "    pov_pop = np.round(pop_country.column(\"population_total\") * pop_country.column(\"extreme_poverty_percent_people_below_125_a_day\") / 100)\n",
    "    poverty_table = Table().with_columns(\"Year\", pop_country.column(\"time\"), \"Population Living in Poverty\", pov_pop)\n",
    "    return poverty_table.plot(\"Year\", \"Population Living in Poverty\")"
   ]
  },
  {
   "cell_type": "markdown",
   "metadata": {
    "deletable": false,
    "editable": false
   },
   "source": [
    "Finally, draw the timelines below to see how the world is changing. You can check your work by comparing your graphs to the ones on [gapminder.org](https://www.gapminder.org/tools/#$state$entities$show$country$/$in@=ind;;;;&marker$axis_y$which=number_of_people_in_poverty&scaleType=linear&spaceRef:null;;;&chart-type=linechart).\n",
    "\n",
    "<!--\n",
    "BEGIN QUESTION\n",
    "name: q2_6\n",
    "manual: true\n",
    "-->\n",
    "<!-- EXPORT TO PDF -->"
   ]
  },
  {
   "cell_type": "code",
   "execution_count": 414,
   "metadata": {
    "export_pdf": true
   },
   "outputs": [
    {
     "data": {
      "image/png": "[encoded data removed]",
      "text/plain": [
       "<Figure size 432x288 with 1 Axes>"
      ]
     },
     "metadata": {},
     "output_type": "display_data"
    },
    {
     "data": {
      "image/png": "[encoded data removed]",
      "text/plain": [
       "<Figure size 432x288 with 1 Axes>"
      ]
     },
     "metadata": {},
     "output_type": "display_data"
    },
    {
     "data": {
      "image/png": "[encoded data removed]",
      "text/plain": [
       "<Figure size 432x288 with 1 Axes>"
      ]
     },
     "metadata": {},
     "output_type": "display_data"
    },
    {
     "data": {
      "image/png": "[encoded data removed]",
      "text/plain": [
       "<Figure size 432x288 with 1 Axes>"
      ]
     },
     "metadata": {},
     "output_type": "display_data"
    }
   ],
   "source": [
    "poverty_timeline('India')\n",
    "poverty_timeline('Nigeria')\n",
    "poverty_timeline('China')\n",
    "poverty_timeline('United States')"
   ]
  },
  {
   "cell_type": "markdown",
   "metadata": {
    "deletable": false,
    "editable": false
   },
   "source": [
    "Although the number of people living in extreme poverty has been increasing in Nigeria and the United States, the massive decreases in China and India have shaped the overall trend that extreme poverty is decreasing worldwide, both in percentage and in absolute number. \n",
    "\n",
    "To learn more, watch [Hans Rosling in a 2015 film](https://www.gapminder.org/videos/dont-panic-end-poverty/) about the UN goal of eradicating extreme poverty from the world. \n",
    "\n",
    "Below, we've also added an interactive dropdown menu for you to visualize `poverty_timeline` graphs for other countries. Note that each dropdown menu selection may take a few seconds to run."
   ]
  },
  {
   "cell_type": "code",
   "execution_count": 415,
   "metadata": {
    "deletable": false,
    "editable": false
   },
   "outputs": [
    {
     "data": {
      "application/vnd.jupyter.widget-view+json": {
       "model_id": "16a91b4a2aad4eb3837e3b9ae3868890",
       "version_major": 2,
       "version_minor": 0
      },
      "text/plain": [
       "interactive(children=(Dropdown(description='country', options=('Angola', 'Albania', 'Argentina', 'Armenia', 'A…"
      ]
     },
     "metadata": {},
     "output_type": "display_data"
    }
   ],
   "source": [
    "# Just run this cell\n",
    "\n",
    "all_countries = poverty_map.column('name')\n",
    "_ = widgets.interact(poverty_timeline, country=list(all_countries))"
   ]
  },
  {
   "cell_type": "markdown",
   "metadata": {
    "deletable": false,
    "editable": false
   },
   "source": [
    "**You're finished!** Congratulations on mastering data visualization and table manipulation. Time to submit."
   ]
  },
  {
   "cell_type": "markdown",
   "metadata": {},
   "source": [
    "## 3. Submission\n"
   ]
  },
  {
   "cell_type": "markdown",
   "metadata": {
    "collapsed": true
   },
   "source": [
    "Once you're finished, select \"Save and Checkpoint\" in the File menu and then execute the `submit` cell below. The result will contain a link that you can use to check that your assignment has been submitted successfully. If you submit more than once before the deadline, we will only grade your final submission. If you mistakenly submit the wrong one, you can head to [okpy.org](https://okpy.org/) and flag the correct version. To do so, go to the website, click on this assignment, and find the version you would like to have graded. There should be an option to flag that submission for grading!"
   ]
  },
  {
   "cell_type": "code",
   "execution_count": 416,
   "metadata": {},
   "outputs": [
    {
     "data": {
      "application/javascript": [
       "IPython.notebook.save_checkpoint();"
      ],
      "text/plain": [
       "<IPython.core.display.Javascript object>"
      ]
     },
     "metadata": {},
     "output_type": "display_data"
    },
    {
     "data": {
      "application/javascript": [
       "IPython.notebook.save_notebook();"
      ],
      "text/plain": [
       "<IPython.core.display.Javascript object>"
      ]
     },
     "metadata": {},
     "output_type": "display_data"
    },
    {
     "name": "stdout",
     "output_type": "stream",
     "text": [
      "Saving notebook... Saved 'project1.ipynb'.\n",
      "Submit... 100% complete\n",
      "Submission successful for user: ireneliang@berkeley.edu\n",
      "URL: https://okpy.org/cal/data8/fa19/project1/submissions/wVO87R\n",
      "\n"
     ]
    }
   ],
   "source": [
    "_ = ok.submit()"
   ]
  },
  {
   "cell_type": "code",
   "execution_count": 417,
   "metadata": {},
   "outputs": [
    {
     "name": "stdout",
     "output_type": "stream",
     "text": [
      "Running all tests...\n",
      "~~~~~~~~~~~~~~~~~~~~~~~~~~~~~~~~~~~~~~~~~~~~~~~~~~~~~~~~~~~~~~~~~~~~~\n",
      "Running tests\n",
      "\n",
      "---------------------------------------------------------------------\n",
      "Test summary\n",
      "    Passed: 3\n",
      "    Failed: 0\n",
      "[ooooooooook] 100.0% passed\n",
      "\n",
      "~~~~~~~~~~~~~~~~~~~~~~~~~~~~~~~~~~~~~~~~~~~~~~~~~~~~~~~~~~~~~~~~~~~~~\n",
      "Running tests\n",
      "\n",
      "---------------------------------------------------------------------\n",
      "Test summary\n",
      "    Passed: 2\n",
      "    Failed: 0\n",
      "[ooooooooook] 100.0% passed\n",
      "\n",
      "~~~~~~~~~~~~~~~~~~~~~~~~~~~~~~~~~~~~~~~~~~~~~~~~~~~~~~~~~~~~~~~~~~~~~\n",
      "Running tests\n",
      "\n",
      "---------------------------------------------------------------------\n",
      "Test summary\n",
      "    Passed: 1\n",
      "    Failed: 0\n",
      "[ooooooooook] 100.0% passed\n",
      "\n",
      "~~~~~~~~~~~~~~~~~~~~~~~~~~~~~~~~~~~~~~~~~~~~~~~~~~~~~~~~~~~~~~~~~~~~~\n",
      "Running tests\n",
      "\n",
      "---------------------------------------------------------------------\n",
      "Test summary\n",
      "    Passed: 1\n",
      "    Failed: 0\n",
      "[ooooooooook] 100.0% passed\n",
      "\n",
      "~~~~~~~~~~~~~~~~~~~~~~~~~~~~~~~~~~~~~~~~~~~~~~~~~~~~~~~~~~~~~~~~~~~~~\n",
      "Running tests\n",
      "\n",
      "---------------------------------------------------------------------\n",
      "Test summary\n",
      "    Passed: 1\n",
      "    Failed: 0\n",
      "[ooooooooook] 100.0% passed\n",
      "\n",
      "~~~~~~~~~~~~~~~~~~~~~~~~~~~~~~~~~~~~~~~~~~~~~~~~~~~~~~~~~~~~~~~~~~~~~\n",
      "Running tests\n",
      "\n",
      "---------------------------------------------------------------------\n",
      "Test summary\n",
      "    Passed: 4\n",
      "    Failed: 0\n",
      "[ooooooooook] 100.0% passed\n",
      "\n",
      "~~~~~~~~~~~~~~~~~~~~~~~~~~~~~~~~~~~~~~~~~~~~~~~~~~~~~~~~~~~~~~~~~~~~~\n",
      "Running tests\n",
      "\n",
      "---------------------------------------------------------------------\n",
      "Test summary\n",
      "    Passed: 3\n",
      "    Failed: 0\n",
      "[ooooooooook] 100.0% passed\n",
      "\n",
      "~~~~~~~~~~~~~~~~~~~~~~~~~~~~~~~~~~~~~~~~~~~~~~~~~~~~~~~~~~~~~~~~~~~~~\n",
      "Running tests\n",
      "\n",
      "---------------------------------------------------------------------\n",
      "Test summary\n",
      "    Passed: 2\n",
      "    Failed: 0\n",
      "[ooooooooook] 100.0% passed\n",
      "\n",
      "~~~~~~~~~~~~~~~~~~~~~~~~~~~~~~~~~~~~~~~~~~~~~~~~~~~~~~~~~~~~~~~~~~~~~\n",
      "Running tests\n",
      "\n",
      "---------------------------------------------------------------------\n",
      "Test summary\n",
      "    Passed: 2\n",
      "    Failed: 0\n",
      "[ooooooooook] 100.0% passed\n",
      "\n",
      "~~~~~~~~~~~~~~~~~~~~~~~~~~~~~~~~~~~~~~~~~~~~~~~~~~~~~~~~~~~~~~~~~~~~~\n",
      "Running tests\n",
      "\n",
      "---------------------------------------------------------------------\n",
      "Test summary\n",
      "    Passed: 2\n",
      "    Failed: 0\n",
      "[ooooooooook] 100.0% passed\n",
      "\n",
      "~~~~~~~~~~~~~~~~~~~~~~~~~~~~~~~~~~~~~~~~~~~~~~~~~~~~~~~~~~~~~~~~~~~~~\n",
      "Running tests\n",
      "\n",
      "---------------------------------------------------------------------\n",
      "Test summary\n",
      "    Passed: 2\n",
      "    Failed: 0\n",
      "[ooooooooook] 100.0% passed\n",
      "\n",
      "~~~~~~~~~~~~~~~~~~~~~~~~~~~~~~~~~~~~~~~~~~~~~~~~~~~~~~~~~~~~~~~~~~~~~\n",
      "Running tests\n",
      "\n",
      "---------------------------------------------------------------------\n",
      "Test summary\n",
      "    Passed: 3\n",
      "    Failed: 0\n",
      "[ooooooooook] 100.0% passed\n",
      "\n",
      "~~~~~~~~~~~~~~~~~~~~~~~~~~~~~~~~~~~~~~~~~~~~~~~~~~~~~~~~~~~~~~~~~~~~~\n",
      "Running tests\n",
      "\n",
      "---------------------------------------------------------------------\n",
      "Test summary\n",
      "    Passed: 3\n",
      "    Failed: 0\n",
      "[ooooooooook] 100.0% passed\n",
      "\n",
      "~~~~~~~~~~~~~~~~~~~~~~~~~~~~~~~~~~~~~~~~~~~~~~~~~~~~~~~~~~~~~~~~~~~~~\n",
      "Running tests\n",
      "\n",
      "---------------------------------------------------------------------\n",
      "Test summary\n",
      "    Passed: 2\n",
      "    Failed: 0\n",
      "[ooooooooook] 100.0% passed\n",
      "\n",
      "~~~~~~~~~~~~~~~~~~~~~~~~~~~~~~~~~~~~~~~~~~~~~~~~~~~~~~~~~~~~~~~~~~~~~\n",
      "Running tests\n",
      "\n",
      "---------------------------------------------------------------------\n",
      "Test summary\n",
      "    Passed: 2\n",
      "    Failed: 0\n",
      "[ooooooooook] 100.0% passed\n",
      "\n",
      "Finished running all tests.\n"
     ]
    }
   ],
   "source": [
    "# For your convenience, you can run this cell to run all the tests at once!\n",
    "import os\n",
    "print(\"Running all tests...\")\n",
    "_ = [ok.grade(q[:-3]) for q in os.listdir(\"tests\") if q.startswith('q') and len(q) <= 10]\n",
    "print(\"Finished running all tests.\")"
   ]
  }
 ],
 "metadata": {
  "kernelspec": {
   "display_name": "Python 3",
   "language": "python",
   "name": "python3"
  },
  "language_info": {
   "codemirror_mode": {
    "name": "ipython",
    "version": 3
   },
   "file_extension": ".py",
   "mimetype": "text/x-python",
   "name": "python",
   "nbconvert_exporter": "python",
   "pygments_lexer": "ipython3",
   "version": "3.6.8"
  }
 },
 "nbformat": 4,
 "nbformat_minor": 1
}
